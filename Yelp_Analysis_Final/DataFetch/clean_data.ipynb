{
 "cells": [
  {
   "cell_type": "code",
   "execution_count": 1,
   "metadata": {
    "collapsed": true
   },
   "outputs": [],
   "source": [
    "import json\n",
    "import csv\n",
    "import pandas as pd"
   ]
  },
  {
   "cell_type": "code",
   "execution_count": 4,
   "metadata": {
    "collapsed": true
   },
   "outputs": [],
   "source": [
    "def get_all_businessID():\n",
    "    business_list = []\n",
    "    with open('/Users/wanlima/Documents/python/yelp_dataset_challenge_academic_dataset/yelp_academic_dataset_business.json') as businessfile:\n",
    "        lines = businessfile.readlines()\n",
    "        for line in lines:\n",
    "            business_list.append(json.loads(line))\n",
    "    df_businesses = pd.DataFrame(business_list)\n",
    "    return df_businesses\n",
    "\n",
    "def get_all_users():\n",
    "    users_list = []\n",
    "    with open('/Users/wanlima/Documents/python/yelp_dataset_challenge_academic_dataset/yelp_academic_dataset_user.json') as userfile:\n",
    "        lines = userfile.readlines()\n",
    "        for line in lines:\n",
    "            users_list.append(json.loads(line))\n",
    "    df_users = pd.DataFrame(users_list)\n",
    "    return df_users\n",
    "\n",
    "def get_all_reviews():    \n",
    "    reviews_list = []\n",
    "    with open('/Users/wanlima/Documents/python/yelp_dataset_challenge_academic_dataset/yelp_academic_dataset_review.json') as reviewfile:\n",
    "        lines = reviewfile.readlines()\n",
    "        for line in lines:\n",
    "            reviews_list.append(json.loads(line))\n",
    "    df_reviews = pd.DataFrame(reviews_list)\n",
    "    return df_reviews"
   ]
  },
  {
   "cell_type": "markdown",
   "metadata": {},
   "source": [
    "# business"
   ]
  },
  {
   "cell_type": "code",
   "execution_count": 3,
   "metadata": {
    "collapsed": true
   },
   "outputs": [],
   "source": [
    "df_businesses = get_all_businessID() # take median time"
   ]
  },
  {
   "cell_type": "code",
   "execution_count": 36,
   "metadata": {
    "collapsed": false
   },
   "outputs": [],
   "source": [
    "states = ['PA','NC','WI','IL','NV','AZ'] # only focus on these 6 states\n",
    "df_business_six = df_businesses[df_businesses['state'].apply(lambda x: x in states)]\n",
    "ids = list(df_business_six['business_id'])"
   ]
  },
  {
   "cell_type": "code",
   "execution_count": 82,
   "metadata": {
    "collapsed": true
   },
   "outputs": [],
   "source": [
    "df_business_six.drop(['type','hours','latitude','longitude','neighborhoods'], axis=1).to_csv('../data/business.csv',index=False)"
   ]
  },
  {
   "cell_type": "code",
   "execution_count": 6,
   "metadata": {
    "collapsed": true
   },
   "outputs": [
    {
     "data": {
      "text/html": [
       "<div>\n",
       "<table border=\"1\" class=\"dataframe\">\n",
       "  <thead>\n",
       "    <tr style=\"text-align: right;\">\n",
       "      <th></th>\n",
       "      <th>attributes</th>\n",
       "      <th>business_id</th>\n",
       "      <th>categories</th>\n",
       "      <th>city</th>\n",
       "      <th>full_address</th>\n",
       "      <th>hours</th>\n",
       "      <th>latitude</th>\n",
       "      <th>longitude</th>\n",
       "      <th>name</th>\n",
       "      <th>neighborhoods</th>\n",
       "      <th>open</th>\n",
       "      <th>review_count</th>\n",
       "      <th>stars</th>\n",
       "      <th>state</th>\n",
       "      <th>type</th>\n",
       "    </tr>\n",
       "  </thead>\n",
       "  <tbody>\n",
       "    <tr>\n",
       "      <th>0</th>\n",
       "      <td>{'Accepts Credit Cards': True, 'Drive-Thru': F...</td>\n",
       "      <td>5UmKMjUEUNdYWqANhGckJw</td>\n",
       "      <td>[Fast Food, Restaurants]</td>\n",
       "      <td>Dravosburg</td>\n",
       "      <td>4734 Lebanon Church Rd\\nDravosburg, PA 15034</td>\n",
       "      <td>{'Wednesday': {'open': '11:00', 'close': '21:0...</td>\n",
       "      <td>40.354327</td>\n",
       "      <td>-79.900706</td>\n",
       "      <td>Mr Hoagie</td>\n",
       "      <td>[]</td>\n",
       "      <td>True</td>\n",
       "      <td>7</td>\n",
       "      <td>3.5</td>\n",
       "      <td>PA</td>\n",
       "      <td>business</td>\n",
       "    </tr>\n",
       "    <tr>\n",
       "      <th>1</th>\n",
       "      <td>{'Accepts Credit Cards': True, 'Good For Group...</td>\n",
       "      <td>UsFtqoBl7naz8AVUBZMjQQ</td>\n",
       "      <td>[Nightlife]</td>\n",
       "      <td>Dravosburg</td>\n",
       "      <td>202 McClure St\\nDravosburg, PA 15034</td>\n",
       "      <td>{}</td>\n",
       "      <td>40.350553</td>\n",
       "      <td>-79.886814</td>\n",
       "      <td>Clancy's Pub</td>\n",
       "      <td>[]</td>\n",
       "      <td>True</td>\n",
       "      <td>5</td>\n",
       "      <td>3.0</td>\n",
       "      <td>PA</td>\n",
       "      <td>business</td>\n",
       "    </tr>\n",
       "  </tbody>\n",
       "</table>\n",
       "</div>"
      ],
      "text/plain": [
       "                                          attributes             business_id  \\\n",
       "0  {'Accepts Credit Cards': True, 'Drive-Thru': F...  5UmKMjUEUNdYWqANhGckJw   \n",
       "1  {'Accepts Credit Cards': True, 'Good For Group...  UsFtqoBl7naz8AVUBZMjQQ   \n",
       "\n",
       "                 categories        city  \\\n",
       "0  [Fast Food, Restaurants]  Dravosburg   \n",
       "1               [Nightlife]  Dravosburg   \n",
       "\n",
       "                                   full_address  \\\n",
       "0  4734 Lebanon Church Rd\\nDravosburg, PA 15034   \n",
       "1          202 McClure St\\nDravosburg, PA 15034   \n",
       "\n",
       "                                               hours   latitude  longitude  \\\n",
       "0  {'Wednesday': {'open': '11:00', 'close': '21:0...  40.354327 -79.900706   \n",
       "1                                                 {}  40.350553 -79.886814   \n",
       "\n",
       "           name neighborhoods  open  review_count  stars state      type  \n",
       "0     Mr Hoagie            []  True             7    3.5    PA  business  \n",
       "1  Clancy's Pub            []  True             5    3.0    PA  business  "
      ]
     },
     "execution_count": 6,
     "metadata": {},
     "output_type": "execute_result"
    }
   ],
   "source": [
    "df_businesses.head(2)"
   ]
  },
  {
   "cell_type": "markdown",
   "metadata": {},
   "source": [
    "# user"
   ]
  },
  {
   "cell_type": "code",
   "execution_count": 79,
   "metadata": {
    "collapsed": true
   },
   "outputs": [],
   "source": [
    "# df_users = get_all_users()\n",
    "df_users.drop(['type'], axis=1).to_csv('../data/user.csv',index=False)"
   ]
  },
  {
   "cell_type": "code",
   "execution_count": 78,
   "metadata": {
    "collapsed": true
   },
   "outputs": [
    {
     "data": {
      "text/html": [
       "<div>\n",
       "<table border=\"1\" class=\"dataframe\">\n",
       "  <thead>\n",
       "    <tr style=\"text-align: right;\">\n",
       "      <th></th>\n",
       "      <th>average_stars</th>\n",
       "      <th>compliments</th>\n",
       "      <th>elite</th>\n",
       "      <th>fans</th>\n",
       "      <th>friends</th>\n",
       "      <th>name</th>\n",
       "      <th>review_count</th>\n",
       "      <th>type</th>\n",
       "      <th>user_id</th>\n",
       "      <th>votes</th>\n",
       "      <th>yelping_since</th>\n",
       "    </tr>\n",
       "  </thead>\n",
       "  <tbody>\n",
       "    <tr>\n",
       "      <th>0</th>\n",
       "      <td>4.14</td>\n",
       "      <td>{'profile': 8, 'writer': 9, 'cute': 15, 'plain...</td>\n",
       "      <td>[2005, 2006]</td>\n",
       "      <td>69</td>\n",
       "      <td>[rpOyqD_893cqmDAtJLbdog, 4U9kSBLuBDU391x6bxU-Y...</td>\n",
       "      <td>Russel</td>\n",
       "      <td>108</td>\n",
       "      <td>user</td>\n",
       "      <td>18kPq7GPye-YQ3LyKyAZPw</td>\n",
       "      <td>{'funny': 167, 'cool': 246, 'useful': 282}</td>\n",
       "      <td>2004-10</td>\n",
       "    </tr>\n",
       "    <tr>\n",
       "      <th>1</th>\n",
       "      <td>3.67</td>\n",
       "      <td>{'profile': 117, 'writer': 346, 'list': 38, 'c...</td>\n",
       "      <td>[2005, 2006, 2007, 2008, 2009, 2010, 2011, 201...</td>\n",
       "      <td>1345</td>\n",
       "      <td>[18kPq7GPye-YQ3LyKyAZPw, 4U9kSBLuBDU391x6bxU-Y...</td>\n",
       "      <td>Jeremy</td>\n",
       "      <td>1292</td>\n",
       "      <td>user</td>\n",
       "      <td>rpOyqD_893cqmDAtJLbdog</td>\n",
       "      <td>{'funny': 8399, 'cool': 12091, 'useful': 15242}</td>\n",
       "      <td>2004-10</td>\n",
       "    </tr>\n",
       "  </tbody>\n",
       "</table>\n",
       "</div>"
      ],
      "text/plain": [
       "   average_stars                                        compliments  \\\n",
       "0           4.14  {'profile': 8, 'writer': 9, 'cute': 15, 'plain...   \n",
       "1           3.67  {'profile': 117, 'writer': 346, 'list': 38, 'c...   \n",
       "\n",
       "                                               elite  fans  \\\n",
       "0                                       [2005, 2006]    69   \n",
       "1  [2005, 2006, 2007, 2008, 2009, 2010, 2011, 201...  1345   \n",
       "\n",
       "                                             friends    name  review_count  \\\n",
       "0  [rpOyqD_893cqmDAtJLbdog, 4U9kSBLuBDU391x6bxU-Y...  Russel           108   \n",
       "1  [18kPq7GPye-YQ3LyKyAZPw, 4U9kSBLuBDU391x6bxU-Y...  Jeremy          1292   \n",
       "\n",
       "   type                 user_id  \\\n",
       "0  user  18kPq7GPye-YQ3LyKyAZPw   \n",
       "1  user  rpOyqD_893cqmDAtJLbdog   \n",
       "\n",
       "                                             votes yelping_since  \n",
       "0       {'funny': 167, 'cool': 246, 'useful': 282}       2004-10  \n",
       "1  {'funny': 8399, 'cool': 12091, 'useful': 15242}       2004-10  "
      ]
     },
     "execution_count": 78,
     "metadata": {},
     "output_type": "execute_result"
    }
   ],
   "source": [
    "df_users.head(2)"
   ]
  },
  {
   "cell_type": "markdown",
   "metadata": {},
   "source": [
    "# review"
   ]
  },
  {
   "cell_type": "code",
   "execution_count": 9,
   "metadata": {
    "collapsed": true
   },
   "outputs": [],
   "source": [
    "df_reviews = get_all_reviews() # take long time"
   ]
  },
  {
   "cell_type": "code",
   "execution_count": 10,
   "metadata": {
    "collapsed": true
   },
   "outputs": [
    {
     "data": {
      "text/html": [
       "<div>\n",
       "<table border=\"1\" class=\"dataframe\">\n",
       "  <thead>\n",
       "    <tr style=\"text-align: right;\">\n",
       "      <th></th>\n",
       "      <th>business_id</th>\n",
       "      <th>date</th>\n",
       "      <th>review_id</th>\n",
       "      <th>stars</th>\n",
       "      <th>text</th>\n",
       "      <th>type</th>\n",
       "      <th>user_id</th>\n",
       "      <th>votes</th>\n",
       "    </tr>\n",
       "  </thead>\n",
       "  <tbody>\n",
       "    <tr>\n",
       "      <th>0</th>\n",
       "      <td>5UmKMjUEUNdYWqANhGckJw</td>\n",
       "      <td>2012-08-01</td>\n",
       "      <td>Ya85v4eqdd6k9Od8HbQjyA</td>\n",
       "      <td>4</td>\n",
       "      <td>Mr Hoagie is an institution. Walking in, it do...</td>\n",
       "      <td>review</td>\n",
       "      <td>PUFPaY9KxDAcGqfsorJp3Q</td>\n",
       "      <td>{'funny': 0, 'cool': 0, 'useful': 0}</td>\n",
       "    </tr>\n",
       "    <tr>\n",
       "      <th>1</th>\n",
       "      <td>5UmKMjUEUNdYWqANhGckJw</td>\n",
       "      <td>2014-02-13</td>\n",
       "      <td>KPvLNJ21_4wbYNctrOwWdQ</td>\n",
       "      <td>5</td>\n",
       "      <td>Excellent food. Superb customer service. I mis...</td>\n",
       "      <td>review</td>\n",
       "      <td>Iu6AxdBYGR4A0wspR9BYHA</td>\n",
       "      <td>{'funny': 0, 'cool': 0, 'useful': 0}</td>\n",
       "    </tr>\n",
       "  </tbody>\n",
       "</table>\n",
       "</div>"
      ],
      "text/plain": [
       "              business_id        date               review_id  stars  \\\n",
       "0  5UmKMjUEUNdYWqANhGckJw  2012-08-01  Ya85v4eqdd6k9Od8HbQjyA      4   \n",
       "1  5UmKMjUEUNdYWqANhGckJw  2014-02-13  KPvLNJ21_4wbYNctrOwWdQ      5   \n",
       "\n",
       "                                                text    type  \\\n",
       "0  Mr Hoagie is an institution. Walking in, it do...  review   \n",
       "1  Excellent food. Superb customer service. I mis...  review   \n",
       "\n",
       "                  user_id                                 votes  \n",
       "0  PUFPaY9KxDAcGqfsorJp3Q  {'funny': 0, 'cool': 0, 'useful': 0}  \n",
       "1  Iu6AxdBYGR4A0wspR9BYHA  {'funny': 0, 'cool': 0, 'useful': 0}  "
      ]
     },
     "execution_count": 10,
     "metadata": {},
     "output_type": "execute_result"
    }
   ],
   "source": [
    "df_reviews.head(2)"
   ]
  },
  {
   "cell_type": "code",
   "execution_count": null,
   "metadata": {
    "collapsed": true
   },
   "outputs": [],
   "source": [
    "df_reviews_of_business = df_reviews[df_reviews['business_id'].apply(lambda x: x in ids)]"
   ]
  },
  {
   "cell_type": "code",
   "execution_count": 75,
   "metadata": {
    "collapsed": true
   },
   "outputs": [],
   "source": [
    "df_reviews_of_business.drop(['type','text'],axis=1).to_csv('../data/reviews.csv',index=False)"
   ]
  }
 ],
 "metadata": {
  "anaconda-cloud": {},
  "kernelspec": {
   "display_name": "Python [Root]",
   "language": "python",
   "name": "Python [Root]"
  },
  "language_info": {
   "codemirror_mode": {
    "name": "ipython",
    "version": 3
   },
   "file_extension": ".py",
   "mimetype": "text/x-python",
   "name": "python",
   "nbconvert_exporter": "python",
   "pygments_lexer": "ipython3",
   "version": "3.5.2"
  }
 },
 "nbformat": 4,
 "nbformat_minor": 0
}
