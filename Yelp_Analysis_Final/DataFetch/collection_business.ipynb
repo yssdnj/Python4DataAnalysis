{
 "cells": [
  {
   "cell_type": "code",
   "execution_count": 1,
   "metadata": {
    "collapsed": true
   },
   "outputs": [],
   "source": [
    "import json\n",
    "import requests\n",
    "import os\n",
    "from state_abb import states_list"
   ]
  },
  {
   "cell_type": "code",
   "execution_count": 2,
   "metadata": {
    "collapsed": true
   },
   "outputs": [],
   "source": [
    "def obtain_bearer_token():\n",
    "    with open(\"client_info.json\") as cred:\n",
    "        data = json.load(cred)\n",
    "    token = requests.post('https://api.yelp.com/oauth2/token', data=data)\n",
    "    access_token = token.json()['access_token']\n",
    "    return access_token"
   ]
  },
  {
   "cell_type": "code",
   "execution_count": 3,
   "metadata": {
    "collapsed": false
   },
   "outputs": [],
   "source": [
    "def createFolder(folderName):  \n",
    "    path = folderName + '/'\n",
    "    isExists=os.path.exists(path)\n",
    "    if(not isExists):\n",
    "        os.makedirs(path)\n",
    "    return path"
   ]
  },
  {
   "cell_type": "code",
   "execution_count": 4,
   "metadata": {
    "collapsed": true
   },
   "outputs": [],
   "source": [
    "def dataFetch_state_size(state, size):\n",
    "    access_token = obtain_bearer_token()\n",
    "    headers = {'Authorization': 'bearer %s' % access_token}    \n",
    "    state_businesses_dict = {'businesses':[]}\n",
    "    access_token = obtain_bearer_token()\n",
    "    for i in range(0, size):\n",
    "        url = 'https://api.yelp.com/v3/businesses/search'\n",
    "        params = {\n",
    "            'location': state,\n",
    "            'limit': 20,\n",
    "            'offset': i*20\n",
    "        }\n",
    "        resp = requests.get(url=url, params=params, headers=headers) \n",
    "        state_businesses_dict['businesses'] = state_businesses_dict['businesses'] + resp.json()['businesses']\n",
    "    return state_businesses_dict"
   ]
  },
  {
   "cell_type": "code",
   "execution_count": 5,
   "metadata": {
    "collapsed": true
   },
   "outputs": [],
   "source": [
    "def save_json(states_list,size):\n",
    "    data_total = {'businesses':[]}\n",
    "\n",
    "    # save each state business data into its owen json file\n",
    "    for state in states_list:\n",
    "        temp_data = dataFetch_state_size(state, size)\n",
    "        with open(createFolder('../data/analysis1_data/States') + state + '.json', 'w') as f:\n",
    "            f.write(json.dumps(temp_data, indent = 4))\n",
    "        data_total['businesses'] = data_total['businesses'] + temp_data['businesses']\n",
    "\n",
    "    # save all states business data into one json file \n",
    "    with open(createFolder('../data/analysis1_data/States') + 'states_businesses.json', 'w') as f:\n",
    "            f.write(json.dumps(data_total,indent = 4))"
   ]
  },
  {
   "cell_type": "code",
   "execution_count": null,
   "metadata": {
    "collapsed": true
   },
   "outputs": [],
   "source": [
    "save_json(states_list,1) # 50*20 each state, 1000*51 = 51000 businesses (51000-434 =50566)"
   ]
  }
 ],
 "metadata": {
  "anaconda-cloud": {},
  "kernelspec": {
   "display_name": "Python [Root]",
   "language": "python",
   "name": "Python [Root]"
  },
  "language_info": {
   "codemirror_mode": {
    "name": "ipython",
    "version": 3
   },
   "file_extension": ".py",
   "mimetype": "text/x-python",
   "name": "python",
   "nbconvert_exporter": "python",
   "pygments_lexer": "ipython3",
   "version": "3.5.2"
  }
 },
 "nbformat": 4,
 "nbformat_minor": 0
}
