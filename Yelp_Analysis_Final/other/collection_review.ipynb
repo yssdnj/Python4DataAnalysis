{
 "cells": [
  {
   "cell_type": "code",
   "execution_count": 2,
   "metadata": {
    "collapsed": true
   },
   "outputs": [],
   "source": [
    "import json\n",
    "import csv\n",
    "import pandas as pd\n",
    "# purpose: get all of the reviews of businesses"
   ]
  },
  {
   "cell_type": "code",
   "execution_count": 3,
   "metadata": {
    "collapsed": true
   },
   "outputs": [],
   "source": [
    "# get all business names from states_business.json\n",
    "def get_business_names():\n",
    "    names = []\n",
    "    with open('../data/states_businesses.json') as f:\n",
    "        businesses = json.load(f)\n",
    "    for business in businesses['businesses']:\n",
    "        names.append(business['name'])\n",
    "    return names\n",
    "\n",
    "# get business ids corresponding to business names\n",
    "def get_all_businessID():\n",
    "    business_list = []\n",
    "    with open('/Users/wanlima/Documents/python/yelp_dataset_challenge_academic_dataset/yelp_academic_dataset_business.json') as businessfile:\n",
    "        lines = businessfile.readlines()\n",
    "        for line in lines:\n",
    "            business_list.append(json.loads(line))\n",
    "    df_businesses = pd.DataFrame(business_list)\n",
    "    return df_businesses\n",
    "\n",
    "# read all reviews from yelp_academic_dataset_review.json 1.95GB, which contains whole reviews from 2013-02-13 ~ 2016-07-19\n",
    "def get_all_reviews():    \n",
    "    reviews_list = []\n",
    "    with open('/Users/wanlima/Documents/python/yelp_dataset_challenge_academic_dataset/yelp_academic_dataset_review.json') as reviewfile:\n",
    "        lines = reviewfile.readlines()\n",
    "        for line in lines:\n",
    "            reviews_list.append(json.loads(line))\n",
    "    df_reviews = pd.DataFrame(reviews_list)\n",
    "    return df_reviews"
   ]
  },
  {
   "cell_type": "code",
   "execution_count": 4,
   "metadata": {
    "collapsed": false
   },
   "outputs": [],
   "source": [
    "# get related DataFrame\n",
    "names = get_business_names() # take short time"
   ]
  },
  {
   "cell_type": "code",
   "execution_count": 6,
   "metadata": {
    "collapsed": false
   },
   "outputs": [],
   "source": [
    "df_businesses = get_all_businessID() # take median time"
   ]
  },
  {
   "cell_type": "code",
   "execution_count": null,
   "metadata": {
    "collapsed": true
   },
   "outputs": [],
   "source": [
    "df_reviews = get_all_reviews() # take long time"
   ]
  },
  {
   "cell_type": "code",
   "execution_count": null,
   "metadata": {
    "collapsed": true
   },
   "outputs": [],
   "source": [
    "# keep the useful reviews which are under fetched businesses  \n",
    "df_business_in_names = df_businesses[df_businesses['name'].apply(lambda x: x in names)]"
   ]
  },
  {
   "cell_type": "code",
   "execution_count": null,
   "metadata": {
    "collapsed": false
   },
   "outputs": [],
   "source": [
    "df_reviews_of_business = df_reviews[df_reviews['business_id'].apply(lambda x: x in list(df_business_in_names['business_id']))]"
   ]
  },
  {
   "cell_type": "code",
   "execution_count": null,
   "metadata": {
    "collapsed": true
   },
   "outputs": [],
   "source": [
    "df_business_in_names_temp = df_business_in_names.set_index('business_id',drop=False)\n",
    "states = df_reviews_of_business['business_id'].apply(lambda busid: df_business_in_names_temp.ix[busid]['state'])\n",
    "df_reviews_of_business['state'] = states"
   ]
  },
  {
   "cell_type": "code",
   "execution_count": 78,
   "metadata": {
    "collapsed": false
   },
   "outputs": [],
   "source": [
    "# save the reviews of fetched businesses to a csv file \n",
    "df_reviews_of_business.drop(['type'],axis=1).sort_values(by='business_id').to_csv('../data/reviews.csv',index=False)"
   ]
  },
  {
   "cell_type": "code",
   "execution_count": null,
   "metadata": {
    "collapsed": true
   },
   "outputs": [],
   "source": []
  }
 ],
 "metadata": {
  "anaconda-cloud": {},
  "kernelspec": {
   "display_name": "Python [Root]",
   "language": "python",
   "name": "Python [Root]"
  },
  "language_info": {
   "codemirror_mode": {
    "name": "ipython",
    "version": 3
   },
   "file_extension": ".py",
   "mimetype": "text/x-python",
   "name": "python",
   "nbconvert_exporter": "python",
   "pygments_lexer": "ipython3",
   "version": "3.5.2"
  }
 },
 "nbformat": 4,
 "nbformat_minor": 0
}
