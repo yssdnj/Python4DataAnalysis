{
 "cells": [
  {
   "cell_type": "code",
   "execution_count": 20,
   "metadata": {
    "collapsed": false
   },
   "outputs": [
    {
     "name": "stdout",
     "output_type": "stream",
     "text": [
      "<class 'dict'>\n"
     ]
    }
   ],
   "source": [
    "from yelp.client import Client\n",
    "from yelp.oauth1_authenticator import Oauth1Authenticator\n",
    "import json\n",
    "# auth = Oauth1Authenticator(\n",
    "#     consumer_key=YOUR_CONSUMER_KEY,\n",
    "#     consumer_secret=YOUR_CONSUMER_SECRET,\n",
    "#     token=YOUR_TOKEN,\n",
    "#     token_secret=YOUR_TOKEN_SECRET\n",
    "# )\n",
    "\n",
    "# client = Client(auth)\n",
    "\n",
    "# read API keys\n",
    "with open('config_secret.json') as cred:\n",
    "    creds = json.load(cred)\n",
    "    print(type(creds))\n",
    "    auth = Oauth1Authenticator(**creds)\n",
    "    client = Client(auth)\n"
   ]
  },
  {
   "cell_type": "code",
   "execution_count": 24,
   "metadata": {
    "collapsed": false
   },
   "outputs": [
    {
     "data": {
      "text/plain": [
       "<yelp.obj.search_response.SearchResponse at 0x10741a438>"
      ]
     },
     "execution_count": 24,
     "metadata": {},
     "output_type": "execute_result"
    }
   ],
   "source": [
    "params = {\n",
    "    'term': 'food',\n",
    "    'limit': 20,\n",
    "    'offset': 20,\n",
    "    'sort': 1,\n",
    "    'location.country_code': 'US'\n",
    "}\n",
    "\n",
    "response = client.search('MA', **params)\n",
    "response"
   ]
  },
  {
   "cell_type": "code",
   "execution_count": 46,
   "metadata": {
    "collapsed": false
   },
   "outputs": [
    {
     "name": "stdout",
     "output_type": "stream",
     "text": [
      "<class 'yelp.obj.search_response.SearchResponse'>\n"
     ]
    }
   ],
   "source": [
    "print(type(response))"
   ]
  },
  {
   "cell_type": "code",
   "execution_count": 25,
   "metadata": {
    "collapsed": false,
    "scrolled": true
   },
   "outputs": [
    {
     "data": {
      "text/plain": [
       "'James Hook & Co'"
      ]
     },
     "execution_count": 25,
     "metadata": {},
     "output_type": "execute_result"
    }
   ],
   "source": [
    "response.businesses[0].name"
   ]
  },
  {
   "cell_type": "code",
   "execution_count": 26,
   "metadata": {
    "collapsed": true
   },
   "outputs": [
    {
     "name": "stdout",
     "output_type": "stream",
     "text": [
      "MA\n",
      "MA\n",
      "MA\n",
      "MA\n",
      "MA\n",
      "MA\n",
      "MA\n",
      "MA\n",
      "MA\n",
      "MA\n",
      "MA\n",
      "MA\n",
      "MA\n",
      "MA\n",
      "MA\n",
      "MA\n",
      "MA\n",
      "MA\n",
      "MA\n",
      "MA\n"
     ]
    }
   ],
   "source": [
    "for ele in response.businesses:\n",
    "    print(ele.location.state_code)"
   ]
  },
  {
   "cell_type": "code",
   "execution_count": 74,
   "metadata": {
    "collapsed": false
   },
   "outputs": [],
   "source": [
    "page = 1\n",
    "page_size = 20\n",
    "search_results = client.search(location=\"MA\", limit=page_size, offset=page * page_size)\n",
    "while( page < 10):\n",
    "    page += 1\n",
    "    search_results = client.search(location=\"MA\",  limit=page_size, offset=page * page_size)"
   ]
  },
  {
   "cell_type": "code",
   "execution_count": 75,
   "metadata": {
    "collapsed": false
   },
   "outputs": [
    {
     "data": {
      "text/plain": [
       "20"
      ]
     },
     "execution_count": 75,
     "metadata": {},
     "output_type": "execute_result"
    }
   ],
   "source": [
    "len(search_results.businesses)"
   ]
  },
  {
   "cell_type": "code",
   "execution_count": null,
   "metadata": {
    "collapsed": true
   },
   "outputs": [],
   "source": []
  },
  {
   "cell_type": "code",
   "execution_count": 36,
   "metadata": {
    "collapsed": false
   },
   "outputs": [
    {
     "name": "stdout",
     "output_type": "stream",
     "text": [
      "PrPTxaVuONJXLbecpygJ8q7nlAyM1PwuTRbJslc7xihO8VaBBcJuC-I24jAc3Aq_kI_psLjIChyBzSLXSBxYQds95fDai0LotOsTX28gMqhd-s4gHi-wawXizytCWHYx\n",
      "{'categories': [{'alias': 'newamerican', 'title': 'American (New)'},\n",
      "                {'alias': 'cocktailbars', 'title': 'Cocktail Bars'},\n",
      "                {'alias': 'beer_and_wine', 'title': 'Beer, Wine & Spirits'}],\n",
      " 'coordinates': {'latitude': 42.4272503, 'longitude': -71.0708219},\n",
      " 'distance': 840.9879757799999,\n",
      " 'id': 'mystic-station-malden',\n",
      " 'image_url': 'https://s3-media2.fl.yelpcdn.com/bphoto/oAETq2vj-gq6tGUxvuayPw/o.jpg',\n",
      " 'is_closed': False,\n",
      " 'location': {'address1': '139 Pleasant St',\n",
      "              'address2': '',\n",
      "              'address3': '',\n",
      "              'city': 'Malden',\n",
      "              'country': 'US',\n",
      "              'state': 'MA',\n",
      "              'zip_code': '02148'},\n",
      " 'name': 'Mystic Station',\n",
      " 'phone': '+17814803166',\n",
      " 'price': '$$',\n",
      " 'rating': 4.5,\n",
      " 'review_count': 198,\n",
      " 'url': 'https://www.yelp.com/biz/mystic-station-malden?adjust_creative=HtXCeJVWHFKH-vG4tL3rGA&utm_campaign=yelp_api_v3&utm_medium=api_v3_business_search&utm_source=HtXCeJVWHFKH-vG4tL3rGA'}\n"
     ]
    }
   ],
   "source": [
    "import requests\n",
    "\n",
    "app_id = 'client_id'\n",
    "app_secret = 'client_secret'\n",
    "data = {'grant_type': 'client_credentials',\n",
    "        'client_id': 'HtXCeJVWHFKH-vG4tL3rGA',\n",
    "        'client_secret': 'dzhszZGqALvkwytCiVvC2rcXuBM7sp0INMHjaFfaFM2YlQ2xb7LBQPxW8mBFQgdp'}\n",
    "token = requests.post('https://api.yelp.com/oauth2/token', data=data)\n",
    "access_token = token.json()['access_token']\n",
    "print(access_token)\n",
    "url = 'https://api.yelp.com/v3/businesses/search'\n",
    "headers = {'Authorization': 'bearer %s' % access_token}\n",
    "# params = {'location': 'San Bruno',\n",
    "#           'term': 'Japanese Restaurant',\n",
    "#           'pricing_filter': '1, 2',\n",
    "#           'sort_by': 'rating'\n",
    "#          }\n",
    "params = {'location': 'Malden'\n",
    "         }\n",
    "\n",
    "resp = requests.get(url=url, params=params, headers=headers)\n",
    "\n",
    "import pprint\n",
    "pprint.pprint(resp.json()['businesses'][0])"
   ]
  },
  {
   "cell_type": "code",
   "execution_count": null,
   "metadata": {
    "collapsed": true
   },
   "outputs": [],
   "source": []
  },
  {
   "cell_type": "code",
   "execution_count": 5,
   "metadata": {
    "collapsed": false
   },
   "outputs": [],
   "source": [
    "import json\n",
    "datas = []\n",
    "with open('/Users/wanlima/Documents/Scala/yelp_dataset_challenge_academic_dataset/business_test.json','r') as data_file:    \n",
    "    for line in data_file.readlines():\n",
    "        datas.append(line)"
   ]
  },
  {
   "cell_type": "code",
   "execution_count": 7,
   "metadata": {
    "collapsed": false
   },
   "outputs": [
    {
     "data": {
      "text/plain": [
       "str"
      ]
     },
     "execution_count": 7,
     "metadata": {},
     "output_type": "execute_result"
    }
   ],
   "source": [
    "type(datas[0])\n",
    "# datas[0]"
   ]
  },
  {
   "cell_type": "code",
   "execution_count": 10,
   "metadata": {
    "collapsed": false
   },
   "outputs": [
    {
     "name": "stdout",
     "output_type": "stream",
     "text": [
      "{'open': True, 'longitude': -79.9007057, 'review_count': 4, 'city': 'Dravosburg', 'name': 'Mr Hoagie', 'full_address': '4734 Lebanon Church Rd\\nDravosburg, PA 15034', 'state': 'PA', 'attributes': {'Good for Kids': True, 'Waiter Service': False, 'Delivery': False, 'Good For': {'dessert': False, 'brunch': False, 'latenight': False, 'dinner': False, 'breakfast': False, 'lunch': False}, 'Accepts Credit Cards': True, 'Good For Groups': True, 'Price Range': 1, 'Noise Level': 'average', 'Drive-Thru': False, 'Caters': False, 'Has TV': False, 'Attire': 'casual', 'Alcohol': 'none', 'Ambience': {'hipster': False, 'intimate': False, 'divey': False, 'romantic': False, 'touristy': False, 'trendy': False, 'casual': False, 'classy': False, 'upscale': False}, 'Takes Reservations': False, 'Outdoor Seating': False, 'Take-out': True, 'Parking': {'lot': False, 'garage': False, 'street': False, 'valet': False, 'validated': False}}, 'latitude': 40.3543266, 'business_id': '5UmKMjUEUNdYWqANhGckJw', 'hours': {'Tuesday': {'close': '21:00', 'open': '11:00'}, 'Wednesday': {'close': '21:00', 'open': '11:00'}, 'Friday': {'close': '21:00', 'open': '11:00'}, 'Monday': {'close': '21:00', 'open': '11:00'}, 'Thursday': {'close': '21:00', 'open': '11:00'}}, 'categories': ['Fast Food', 'Restaurants'], 'stars': 4.5, 'type': 'business', 'neighborhoods': []}\n"
     ]
    }
   ],
   "source": [
    "obj = json.loads(datas[0])\n",
    "print(obj)"
   ]
  },
  {
   "cell_type": "code",
   "execution_count": 2,
   "metadata": {
    "collapsed": false
   },
   "outputs": [],
   "source": [
    "import requests\n",
    "import json\n",
    "from requests_oauthlib import OAuth1\n",
    "\n",
    "CONSUMER_KEY = \"DtZ-CH2qJpjBmhM5Khy-UQ\"\n",
    "CONSUMER_SECRET = \"BArD6elK_EBSSO5jVoOhz2yezgw\"\n",
    "ACCESS_TOKEN = \"ij1XeHHpcuvIUm9IxkJnSHonen3SCW_A\"\n",
    "ACCESS_SECRET = \"GHloOZY2_t82bD9cZoGG_prAhAg\"\n",
    "\n",
    "auth = OAuth1(CONSUMER_KEY,CONSUMER_SECRET,ACCESS_TOKEN,ACCESS_SECRET)"
   ]
  },
  {
   "cell_type": "code",
   "execution_count": 4,
   "metadata": {
    "collapsed": false
   },
   "outputs": [
    {
     "data": {
      "text/plain": [
       "<Response [404]>"
      ]
     },
     "execution_count": 4,
     "metadata": {},
     "output_type": "execute_result"
    }
   ],
   "source": [
    "url = \"https://api.yelp.com/v3/businesses/search?location=San+Francisco\"\n",
    "r = requests.get(url,auth=auth)\n",
    "r"
   ]
  },
  {
   "cell_type": "code",
   "execution_count": 92,
   "metadata": {
    "collapsed": false
   },
   "outputs": [
    {
     "name": "stdout",
     "output_type": "stream",
     "text": [
      "<class 'str'>\n",
      "<class 'str'>\n"
     ]
    },
    {
     "ename": "TypeError",
     "evalue": "write() argument must be str, not dict",
     "output_type": "error",
     "traceback": [
      "\u001b[0;31m---------------------------------------------------------------------------\u001b[0m",
      "\u001b[0;31mTypeError\u001b[0m                                 Traceback (most recent call last)",
      "\u001b[0;32m<ipython-input-92-6f7c6d37b435>\u001b[0m in \u001b[0;36m<module>\u001b[0;34m()\u001b[0m\n\u001b[1;32m      7\u001b[0m         \u001b[0;31m# for line in r.json():\u001b[0m\u001b[0;34m\u001b[0m\u001b[0;34m\u001b[0m\u001b[0m\n\u001b[1;32m      8\u001b[0m             \u001b[0;31m# print(type(line))\u001b[0m\u001b[0;34m\u001b[0m\u001b[0;34m\u001b[0m\u001b[0m\n\u001b[0;32m----> 9\u001b[0;31m         \u001b[0mf\u001b[0m\u001b[0;34m.\u001b[0m\u001b[0mwrite\u001b[0m\u001b[0;34m(\u001b[0m\u001b[0mr\u001b[0m\u001b[0;34m.\u001b[0m\u001b[0mjson\u001b[0m\u001b[0;34m(\u001b[0m\u001b[0;34m)\u001b[0m\u001b[0;34m)\u001b[0m\u001b[0;34m\u001b[0m\u001b[0m\n\u001b[0m\u001b[1;32m     10\u001b[0m         \u001b[0mtype\u001b[0m\u001b[0;34m(\u001b[0m\u001b[0mf\u001b[0m\u001b[0;34m.\u001b[0m\u001b[0mreadline\u001b[0m\u001b[0;34m)\u001b[0m\u001b[0;34m\u001b[0m\u001b[0m\n",
      "\u001b[0;31mTypeError\u001b[0m: write() argument must be str, not dict"
     ]
    }
   ],
   "source": [
    "# print(r.text)\n",
    "print(type(json.dumps(r.json(),indent = 4)))\n",
    "headType = r.headers['content-type']\n",
    "# print(headType)\n",
    "print(type(json.dumps(r.json(),indent = 4)))\n",
    "with open( 'test.json', 'w') as f:\n",
    "        # for line in r.json():\n",
    "            # print(type(line))\n",
    "        f.write(json.dumps(r.json(),indent = 4))\n",
    "        type(f.readline)"
   ]
  },
  {
   "cell_type": "code",
   "execution_count": 67,
   "metadata": {
    "collapsed": false
   },
   "outputs": [
    {
     "data": {
      "text/plain": [
       "20"
      ]
     },
     "execution_count": 67,
     "metadata": {},
     "output_type": "execute_result"
    }
   ],
   "source": [
    "len(r.json()['businesses'])"
   ]
  },
  {
   "cell_type": "code",
   "execution_count": 89,
   "metadata": {
    "collapsed": false
   },
   "outputs": [
    {
     "data": {
      "text/plain": [
       "{'businesses': [{'id': 1},\n",
       "  {'id': 2},\n",
       "  {'id': 3},\n",
       "  {'id': 4},\n",
       "  {'id': 5},\n",
       "  {'id': 6},\n",
       "  {'id': 7},\n",
       "  {'id': 8}]}"
      ]
     },
     "execution_count": 89,
     "metadata": {},
     "output_type": "execute_result"
    }
   ],
   "source": [
    "dict1 = {\n",
    "            \"total\": 24377,\n",
    "            \"businesses\": [\n",
    "                {\n",
    "                    \"id\": 1,\n",
    "                },\n",
    "                {\n",
    "                    \"id\": 2,\n",
    "                },\n",
    "                {\n",
    "                    \"id\": 3,\n",
    "                },\n",
    "                {\n",
    "                    \"id\": 4,\n",
    "                }\n",
    "            ],\n",
    "            \"region\": {\n",
    "                \"span\": {\n",
    "                    \"longitude_delta\": 0.05022423717431934,\n",
    "                    \"latitude_delta\": 0.031833237573280826\n",
    "                },\n",
    "                \"center\": {\n",
    "                    \"longitude\": -71.0747858987156,\n",
    "                    \"latitude\": 42.349548846557596\n",
    "                }\n",
    "            }\n",
    "        }\n",
    "dict2 = {\n",
    "            \"total\": 24377,\n",
    "            \"businesses\": [\n",
    "                {\n",
    "                    \"id\": 5,\n",
    "                },\n",
    "                {\n",
    "                    \"id\": 6,\n",
    "                },\n",
    "                {\n",
    "                    \"id\": 7,\n",
    "                },\n",
    "                {\n",
    "                    \"id\": 8,\n",
    "                }\n",
    "            ],\n",
    "            \"region\": {\n",
    "                \"span\": {\n",
    "                    \"longitude_delta\": 0.64262452345342656,\n",
    "                    \"latitude_delta\": 0.01345341593415435\n",
    "                },\n",
    "                \"center\": {\n",
    "                    \"longitude\": -46.34536262456452,\n",
    "                    \"latitude\": 44.5246245625645\n",
    "                }\n",
    "            }\n",
    "        }\n",
    "# dict1['businesses']\n",
    "dict3 = {}\n",
    "dict3['businesses'] = dict1['businesses'] + dict2['businesses']\n",
    "dict3"
   ]
  },
  {
   "cell_type": "code",
   "execution_count": 12,
   "metadata": {
    "collapsed": false
   },
   "outputs": [
    {
     "data": {
      "text/plain": [
       "{'error': {'id': 'BUSINESS_UNAVAILABLE',\n",
       "  'text': 'Business information is unavailable'}}"
      ]
     },
     "execution_count": 12,
     "metadata": {},
     "output_type": "execute_result"
    }
   ],
   "source": [
    "url = \"https://api.yelp.com/v2/business/sian-bistro-searcy?\"\n",
    "params = {\n",
    "            'limit': 20,\n",
    "        }\n",
    "r = requests.get(url,auth=auth) \n",
    "r.json()"
   ]
  },
  {
   "cell_type": "code",
   "execution_count": 7,
   "metadata": {
    "collapsed": false
   },
   "outputs": [],
   "source": [
    "import requests\n",
    "import json\n",
    "import os\n",
    "from requests_oauthlib import OAuth1\n",
    "from state_abb import states_list\n",
    "\n",
    "CONSUMER_KEY = \"DtZ-CH2qJpjBmhM5Khy-UQ\"\n",
    "CONSUMER_SECRET = \"BArD6elK_EBSSO5jVoOhz2yezgw\"\n",
    "ACCESS_TOKEN = \"ij1XeHHpcuvIUm9IxkJnSHonen3SCW_A\"\n",
    "ACCESS_SECRET = \"GHloOZY2_t82bD9cZoGG_prAhAg\"\n",
    "\n",
    "auth = OAuth1(CONSUMER_KEY,CONSUMER_SECRET,ACCESS_TOKEN,ACCESS_SECRET)"
   ]
  },
  {
   "cell_type": "code",
   "execution_count": 18,
   "metadata": {
    "collapsed": false
   },
   "outputs": [
    {
     "data": {
      "text/plain": [
       "{'excerpt': \"I love that I found this little gem right by my job.  There's not that many healthy joints close by so it's great to have another healthy option for lunch....\",\n",
       " 'id': 'Doz2RKnZsoIKU0NUOrpSlA',\n",
       " 'rating': 5,\n",
       " 'rating_image_large_url': 'https://s3-media3.fl.yelpcdn.com/assets/2/www/img/22affc4e6c38/ico/stars/v1/stars_large_5.png',\n",
       " 'rating_image_small_url': 'https://s3-media1.fl.yelpcdn.com/assets/2/www/img/c7623205d5cd/ico/stars/v1/stars_small_5.png',\n",
       " 'rating_image_url': 'https://s3-media1.fl.yelpcdn.com/assets/2/www/img/f1def11e4e79/ico/stars/v1/stars_5.png',\n",
       " 'time_created': 1477534996,\n",
       " 'user': {'id': 'HQxIwgpcsDQutZXlIK4ygg',\n",
       "  'image_url': 'https://s3-media2.fl.yelpcdn.com/photo/hbpyWhyIPH4gD2GqucG9ew/ms.jpg',\n",
       "  'name': 'Adriana M.'}}"
      ]
     },
     "execution_count": 18,
     "metadata": {},
     "output_type": "execute_result"
    }
   ],
   "source": [
    "url = \"https://api.yelp.com/v2/business/\"\n",
    "business_id = 'kens-healthy-delights-miami'\n",
    "params = {\n",
    "            \n",
    "            'location': 'MA',\n",
    "            'limit': 20\n",
    "}\n",
    "r = requests.get(url+business_id,auth=auth) \n",
    "r.json()['reviews'][0]"
   ]
  },
  {
   "cell_type": "code",
   "execution_count": 98,
   "metadata": {
    "collapsed": true
   },
   "outputs": [],
   "source": [
    "def createFolder(folderName):  \n",
    "    path = folderName + '/'\n",
    "    isExists=os.path.exists(path)\n",
    "    if(not isExists):\n",
    "        os.makedirs(path)\n",
    "    return path\n",
    "\n",
    "def dataFetch_state_size(state, size):\n",
    "    state_businesses_dict = {'businesses':[]}\n",
    "    for i in range(0, size):\n",
    "        url = \"https://api.yelp.com/v2/search?\"\n",
    "        params = {\n",
    "            'location': state,\n",
    "            'limit': 20,\n",
    "            'offset': i*20\n",
    "        }\n",
    "        r = requests.get(url,params=params,auth=auth) \n",
    "        state_businesses_dict['businesses'] = state_businesses_dict['businesses'] + r.json()['businesses']\n",
    "    return state_businesses_dict\n",
    "\n",
    "def save_json(states_list,size):\n",
    "    data_total = {'businesses':[]}\n",
    "\n",
    "    # save each state business data into its owen json file\n",
    "    for state in states_list:\n",
    "        temp_data = dataFetch_state_size(state, size)\n",
    "        with open(createFolder('States') + state + '.json', 'w') as f:\n",
    "            f.write(json.dumps(temp_data, indent = 4))\n",
    "        data_total['businesses'] = data_total['businesses'] + temp_data['businesses']\n",
    "\n",
    "    # save all states business data into one json file \n",
    "    with open('states_businesses.json', 'w') as f:\n",
    "            f.write(json.dumps(data_total,indent = 4))"
   ]
  },
  {
   "cell_type": "code",
   "execution_count": 126,
   "metadata": {
    "collapsed": false
   },
   "outputs": [],
   "source": [
    "save_json([],40)"
   ]
  },
  {
   "cell_type": "code",
   "execution_count": 133,
   "metadata": {
    "collapsed": false
   },
   "outputs": [
    {
     "name": "stdout",
     "output_type": "stream",
     "text": [
      "38360\n"
     ]
    }
   ],
   "source": [
    "with open('states_businesses.json', 'r') as f:\n",
    "    data = json.load(f)\n",
    "    print(len(data['businesses']))"
   ]
  },
  {
   "cell_type": "code",
   "execution_count": 134,
   "metadata": {
    "collapsed": true
   },
   "outputs": [
    {
     "name": "stdout",
     "output_type": "stream",
     "text": [
      "<class 'list'>\n",
      "<class 'list'>\n",
      "<class 'list'>\n",
      "<class 'list'>\n",
      "<class 'list'>\n",
      "<class 'list'>\n",
      "<class 'list'>\n",
      "<class 'list'>\n",
      "<class 'list'>\n",
      "<class 'list'>\n",
      "<class 'list'>\n",
      "<class 'list'>\n",
      "<class 'list'>\n",
      "<class 'list'>\n",
      "<class 'list'>\n",
      "<class 'list'>\n",
      "<class 'list'>\n",
      "<class 'list'>\n",
      "<class 'list'>\n",
      "<class 'list'>\n",
      "<class 'list'>\n",
      "<class 'list'>\n",
      "<class 'list'>\n",
      "<class 'list'>\n",
      "<class 'list'>\n",
      "<class 'list'>\n",
      "<class 'list'>\n",
      "<class 'list'>\n",
      "<class 'list'>\n",
      "<class 'list'>\n",
      "<class 'list'>\n",
      "<class 'list'>\n",
      "<class 'list'>\n",
      "<class 'list'>\n",
      "<class 'list'>\n",
      "<class 'list'>\n",
      "<class 'list'>\n",
      "<class 'list'>\n",
      "<class 'list'>\n",
      "<class 'list'>\n",
      "<class 'list'>\n",
      "<class 'list'>\n",
      "<class 'list'>\n",
      "<class 'list'>\n",
      "<class 'list'>\n",
      "<class 'list'>\n",
      "<class 'list'>\n",
      "<class 'list'>\n",
      "<class 'list'>\n",
      "<class 'list'>\n",
      "<class 'list'>\n"
     ]
    }
   ],
   "source": [
    "abs_path = os.path.abspath(\"../yelp/States\")\n",
    "listJsonFiles = os.listdir(abs_path)\n",
    "# # print(listJsonFiles)\n",
    "for file in listJsonFiles:\n",
    "    with open(abs_path + '/' + file) as jsonfile:\n",
    "        jsonData = json.load(jsonfile) \n",
    "        print(type(jsonData['businesses']))"
   ]
  },
  {
   "cell_type": "code",
   "execution_count": 38,
   "metadata": {
    "collapsed": false
   },
   "outputs": [
    {
     "data": {
      "text/plain": [
       "<matplotlib.axes._subplots.AxesSubplot at 0x12d306860>"
      ]
     },
     "execution_count": 38,
     "metadata": {},
     "output_type": "execute_result"
    }
   ],
   "source": [
    "import os\n",
    "import json\n",
    "import csv\n",
    "import matplotlib.pyplot as plt\n",
    "import pandas as pd\n",
    "import numpy as np\n",
    "from datetime import datetime\n",
    "\n",
    "# x axis: from min date to max date; y axis: avg rate and rate count \n",
    "# annotate the highest and lowest rate date, and the highest and lowest rate count date\n",
    "\n",
    "review_abspath = os.path.abspath(\"./DataFetch/data/reviews.csv\")\n",
    "df = pd.read_csv(review_abspath)\n",
    "df.dropna(inplace=True)\n",
    "\n",
    "date_series = df['date'].apply(lambda x: datetime.strptime(x, '%Y-%m-%d'))\n",
    "review_count_date = df['date'].value_counts().sort_index()\n",
    "review_count_date.plot()\n",
    "    "
   ]
  },
  {
   "cell_type": "code",
   "execution_count": null,
   "metadata": {
    "collapsed": true
   },
   "outputs": [],
   "source": [
    "plt.show()"
   ]
  },
  {
   "cell_type": "code",
   "execution_count": null,
   "metadata": {
    "collapsed": true
   },
   "outputs": [],
   "source": []
  }
 ],
 "metadata": {
  "anaconda-cloud": {},
  "kernelspec": {
   "display_name": "Python [Root]",
   "language": "python",
   "name": "Python [Root]"
  },
  "language_info": {
   "codemirror_mode": {
    "name": "ipython",
    "version": 3
   },
   "file_extension": ".py",
   "mimetype": "text/x-python",
   "name": "python",
   "nbconvert_exporter": "python",
   "pygments_lexer": "ipython3",
   "version": "3.5.2"
  }
 },
 "nbformat": 4,
 "nbformat_minor": 0
}
