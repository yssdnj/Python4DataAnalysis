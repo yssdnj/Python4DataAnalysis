{
 "cells": [
  {
   "cell_type": "markdown",
   "metadata": {},
   "source": [
    "# Question 1"
   ]
  },
  {
   "cell_type": "code",
   "execution_count": 1,
   "metadata": {
    "collapsed": false
   },
   "outputs": [
    {
     "name": "stdout",
     "output_type": "stream",
     "text": [
      "[21, 42, 63, 84, 105, 126, 147, 168, 189, 210, 231, 252, 273, 294, 315, 336, 357, 378, 399, 420, 441, 462, 483]\n"
     ]
    }
   ],
   "source": [
    "L = list()\n",
    "for i in range(1,500):\n",
    "    if i%3==0 and i%7==0:\n",
    "        L.append(i)\n",
    "print(L)       "
   ]
  },
  {
   "cell_type": "code",
   "execution_count": 114,
   "metadata": {
    "collapsed": false
   },
   "outputs": [
    {
     "name": "stdout",
     "output_type": "stream",
     "text": [
      "the mean is 252.0\n",
      "the 25th quartile is 126\n",
      "the 50th quartile is 252\n",
      "the 75th quartile is 378\n"
     ]
    }
   ],
   "source": [
    "print('the mean is {}'.format(sum(L)/len(L)))\n",
    "q1 = L[int((len(L)+1)*0.25-1)]\n",
    "q2 = L[int((len(L)+1)*0.50-1)]\n",
    "q3 = L[int((len(L)+1)*0.75-1)]\n",
    "print('the 25th quartile is {}'.format(q1))\n",
    "print('the 50th quartile is {}'.format(q2))\n",
    "print('the 75th quartile is {}'.format(q3))"
   ]
  },
  {
   "cell_type": "markdown",
   "metadata": {},
   "source": [
    "# Question 2"
   ]
  },
  {
   "cell_type": "code",
   "execution_count": 122,
   "metadata": {
    "collapsed": false
   },
   "outputs": [
    {
     "name": "stdout",
     "output_type": "stream",
     "text": [
      "number of words: 309\n"
     ]
    }
   ],
   "source": [
    "with open('ques2.txt','r') as output:\n",
    "    lines = output.readlines()\n",
    "    total = list()\n",
    "    for line in lines:\n",
    "        words = line.strip().split(' ')\n",
    "        total += words\n",
    "#print(total)\n",
    "print('number of words: {}'.format(len(total)))"
   ]
  },
  {
   "cell_type": "code",
   "execution_count": 280,
   "metadata": {
    "collapsed": false
   },
   "outputs": [
    {
     "name": "stdout",
     "output_type": "stream",
     "text": [
      "[11, 2, 2, 4, 6, 8, 7, 3, 9, 11, 5, 4, 4, 7, 5, 2, 3, 5, 9, 12, 11, 5, 3, 5, 5, 9, 3, 16, 4, 6, 9, 12, 7, 5, 3, 8, 12, 6, 3, 2, 6, 11, 2, 3, 2, 4, 4, 2, 4, 2, 1, 8, 7, 2, 6, 6, 4, 1, 6, 4, 10, 3, 10, 9, 2, 11, 3, 9, 7, 2, 3, 6, 5, 4, 6, 8, 7, 12, 8, 12, 3, 3, 8, 2, 10, 7, 8, 3, 4, 6, 8, 9, 3, 3, 6, 2, 7, 6, 2, 2, 10, 2, 1, 4, 7, 2, 5, 7, 2, 9, 4, 6, 8, 12, 11, 4, 1, 8, 5, 2, 5, 1, 6, 5, 9, 9, 12, 11, 3, 3, 4, 9, 9, 2, 4, 2, 5, 4, 3, 8, 2, 10, 10, 10, 5, 8, 3, 12, 13, 7, 6, 5, 4, 5, 5, 17, 16, 4, 7, 2, 8, 3, 4, 2, 7, 7, 3, 5, 2, 5, 10, 4, 3, 5, 5, 3, 8, 2, 13, 7, 3, 7, 14, 3, 2, 8, 4, 3, 3, 7, 2, 5, 8, 5, 7, 12, 10, 2, 2, 6, 3, 4, 6, 2, 6, 4, 4, 2, 12, 3, 6, 2, 7, 4, 3, 5, 6, 2, 7, 4, 7, 8, 2, 1, 3, 10, 2, 3, 10, 8, 3, 12, 2, 3, 7, 8, 2, 4, 4, 2, 6, 3, 7, 5, 3, 5, 8, 6, 2, 7, 4, 2, 7, 2, 2, 3, 2, 3, 4, 7, 8, 9, 2, 3, 6, 2, 4, 2, 6, 2, 4, 8, 3, 10, 8, 5, 3, 7, 7, 8, 2, 9, 6, 9, 6, 2, 3, 10, 2, 11, 8, 3, 9, 3, 3, 8, 5, 7, 2, 5, 10, 15, 5, 4, 4, 2, 3, 8, 13]\n",
      "mean: 5.618122977346278\n",
      "charNum: 5\n",
      "mode:  2\n"
     ]
    }
   ],
   "source": [
    "import statistics\n",
    "charNum = list()\n",
    "for word in total:\n",
    "    charNum.append(len(word))\n",
    "print(charNum)\n",
    "print('mean:', statistics.mean(charNum))\n",
    "print('charNum:', statistics.median(charNum))\n",
    "print('mode: ', statistics.mode(charNum))"
   ]
  },
  {
   "cell_type": "markdown",
   "metadata": {},
   "source": [
    "# Question 3 (877 not found)"
   ]
  },
  {
   "cell_type": "code",
   "execution_count": 271,
   "metadata": {
    "collapsed": false
   },
   "outputs": [
    {
     "name": "stdout",
     "output_type": "stream",
     "text": [
      "877\n"
     ]
    }
   ],
   "source": [
    "import os\n",
    "import json\n",
    "\n",
    "listdir = os.listdir(\"jsons\")\n",
    "n = 0\n",
    "#print(listdir)\n",
    "for file in listdir:\n",
    "    if(file[-5:] == \".json\"):\n",
    "        with open(\"jsons/\"+file) as f:\n",
    "            if(json.load(f).get('name', 'none') == 'User Not Found'):\n",
    "                n += 1\n",
    "print(n)"
   ]
  },
  {
   "cell_type": "code",
   "execution_count": 289,
   "metadata": {
    "collapsed": false
   },
   "outputs": [
    {
     "name": "stdout",
     "output_type": "stream",
     "text": [
      "('WKyvrNfx1BMaNb2', 0)\n",
      "('R6aI4DJL1BMpb32', 0)\n",
      "('wj8rTOOl1BEyqI5', 1)\n",
      "('B6Sxz5gg1BFDIx5', 0)\n",
      "('VUbqbYjj1BMx675', 1)\n"
     ]
    }
   ],
   "source": [
    "import os\n",
    "import json\n",
    "import random\n",
    "\n",
    "listdir = os.listdir(\"jsons\")\n",
    "D = dict()\n",
    "a,b=0,0\n",
    "for file in listdir:\n",
    "    if(file[-5:] == \".json\"):\n",
    "        with open(\"jsons/\"+file) as f:\n",
    "            #if(json.load(f).get('name', 'none') == 'User Not Found'):\n",
    "            if(f.read().find('User Not Found') != -1):\n",
    "                D[file[:-5]] = 0\n",
    "                a+=1\n",
    "            else:\n",
    "                D[file[:-5]] = 1\n",
    "                b+=1\n",
    "#print(a,b)\n",
    "for i in range(5):\n",
    "    key = random.choice(list(D.keys()))\n",
    "    value = D.get(key)\n",
    "    print((key,value))"
   ]
  },
  {
   "cell_type": "markdown",
   "metadata": {},
   "source": [
    "# Question 4 (glob or os )"
   ]
  },
  {
   "cell_type": "code",
   "execution_count": 444,
   "metadata": {
    "collapsed": false
   },
   "outputs": [
    {
     "name": "stdout",
     "output_type": "stream",
     "text": [
      "1500\n",
      "{'WbuTv5ka1BMMmy5': {'third': 0, 'first': 0}}\n",
      "{'AVaH7GEb1BEGJx5': {'third': 0, 'first': 0}}\n",
      "{'rcnd53uk1AbZg15': {'third': 1, 'first': 152}}\n",
      "{'G9NsbmSr1Bxzid5': {'third': 0, 'first': 0}}\n",
      "{'AK4izui51BEttP2': {'third': 0, 'first': 0}}\n",
      "{'vRVne4Dd1BMsoO5': {'third': 0, 'first': 0}}\n",
      "{'zoOjDSNp1BMggv2': {'third': 0, 'first': 0}}\n",
      "{'W3kDNDcB1BMsmo2': {'third': 0, 'first': 0}}\n",
      "{'VtkRv2V91BM9rd5': {'third': 0, 'first': 1}}\n",
      "{'RFc6ANkN1BLN4R5': {'third': 0, 'first': 27}}\n"
     ]
    }
   ],
   "source": [
    "import os\n",
    "import random\n",
    "import json\n",
    "listdir = os.listdir(\"jsons\")\n",
    "result = dict()\n",
    "\n",
    "for file in listdir:\n",
    "    userID = file[:-5]\n",
    "    if(file[-5:] == \".json\"):\n",
    "        with open('jsons/'+file,'r') as f:\n",
    "            a,b=0,0\n",
    "            D = json.load(f)\n",
    "            if(D.get('name', 'none') == 'User Not Found'):\n",
    "                result[userID] = {'first': 0, 'third': 0}\n",
    "            else:\n",
    "                segList = D['retargetingSegments']\n",
    "                for elt in segList:\n",
    "                    if(elt['segmentUid'].startswith('0')):\n",
    "                        a += 1\n",
    "                    elif(elt['segmentUid'].startswith('1')):\n",
    "                        b += 1\n",
    "                result[userID] = {'first': a, 'third': b}\n",
    "print(len(result))\n",
    "#print(json.dumps(result,sort_keys=True, indent=4))\n",
    "for i in range(10):\n",
    "    key = random.choice(list(result.keys()))\n",
    "    value = result.get(key)\n",
    "    print({key:value})\n"
   ]
  },
  {
   "cell_type": "code",
   "execution_count": 448,
   "metadata": {
    "collapsed": false
   },
   "outputs": [
    {
     "name": "stdout",
     "output_type": "stream",
     "text": [
      "['jsons2/A0kxiHL81AN9pH5.json', 'jsons2/A1Fxs5Ag1A8vuB5.json', 'jsons2/A2Dsv7RE1BDqYt5.json', 'jsons2/A2HkZPkn1BpvvG5.json', 'jsons2/A2m8eJO71BM9DP2.json', 'jsons2/A2VNCBDc1BI1q65.json', 'jsons2/A3j6Sjuz1BMMV82.json', 'jsons2/A5t8zeph1BMqBF5.json', 'jsons2/A6PMBZOC1BMr1w2.json', 'jsons2/vRVne4Dd1BMsoO5.json']\n"
     ]
    }
   ],
   "source": [
    "import glob\n",
    "listdir = glob.glob(r'jsons2/*.json')\n",
    "print(listdir)\n",
    "\n"
   ]
  },
  {
   "cell_type": "code",
   "execution_count": null,
   "metadata": {
    "collapsed": true
   },
   "outputs": [],
   "source": []
  }
 ],
 "metadata": {
  "anaconda-cloud": {},
  "kernelspec": {
   "display_name": "Python [Root]",
   "language": "python",
   "name": "Python [Root]"
  },
  "language_info": {
   "codemirror_mode": {
    "name": "ipython",
    "version": 3
   },
   "file_extension": ".py",
   "mimetype": "text/x-python",
   "name": "python",
   "nbconvert_exporter": "python",
   "pygments_lexer": "ipython3",
   "version": "3.5.2"
  }
 },
 "nbformat": 4,
 "nbformat_minor": 0
}
