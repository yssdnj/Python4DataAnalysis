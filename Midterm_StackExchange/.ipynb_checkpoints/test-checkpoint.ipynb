{
 "cells": [
  {
   "cell_type": "code",
   "execution_count": null,
   "metadata": {
    "collapsed": true
   },
   "outputs": [],
   "source": [
    "import json\n",
    "json.dumps(['foo', {'bar': ('baz', None, 1.0, 2)}])\n",
    "\n",
    "print(json.dumps(\"\\\"foo\\bar\"))\n",
    "\n",
    "print(json.dumps('\\u1234'))\n",
    "\n",
    "print(json.dumps('\\\\'))\n",
    "\n",
    "print(json.dumps({\"c\": 0, \"b\": 0, \"a\": 0}, sort_keys=True))\n",
    "\n",
    "from io import StringIO\n",
    "io = StringIO()\n",
    "json.dump(['streaming API'], io)\n",
    "io.getvalue()\n"
   ]
  },
  {
   "cell_type": "code",
   "execution_count": 39,
   "metadata": {
    "collapsed": false
   },
   "outputs": [
    {
     "data": {
      "text/plain": [
       "'[1,2,3,{\"6\":7,\"4\":5}]'"
      ]
     },
     "execution_count": 39,
     "metadata": {},
     "output_type": "execute_result"
    }
   ],
   "source": [
    "json.dumps([1,2,3,{'4': 5, '6': 7}], separators=(',', ':'))"
   ]
  },
  {
   "cell_type": "code",
   "execution_count": 37,
   "metadata": {
    "collapsed": false
   },
   "outputs": [
    {
     "name": "stdout",
     "output_type": "stream",
     "text": [
      "25\n"
     ]
    }
   ],
   "source": [
    "data = {'a': 123, 'c': 456, 'b': 789}\n",
    "print(len(json.dumps(data,separators=(',',':'))))"
   ]
  },
  {
   "cell_type": "code",
   "execution_count": 100,
   "metadata": {
    "collapsed": false
   },
   "outputs": [
    {
     "name": "stdout",
     "output_type": "stream",
     "text": [
      "http://api.stackexchange.com/2.2/questions?key=1N2)WAQaEFzyJP*F)Al2Kw((&page=1&pagesize=100&fromdate=1472688000&todate=1475193600&order=desc&sort=creation&tagged=python%3Bpandas&site=stackoverflow\n",
      "100\n"
     ]
    }
   ],
   "source": [
    "import requests\n",
    "import json\n",
    "key = '1N2)WAQaEFzyJP*F)Al2Kw(('\n",
    "url = 'http://api.stackexchange.com/2.2/questions?key={}&page=1&pagesize=100\\\n",
    "&fromdate=1472688000&todate=1475193600&order=desc&sort=creation&tagged=python%3Bpandas&site=stackoverflow'.format(key)\n",
    "print(url)\n",
    "\n",
    "r = requests.get(url)\n",
    "data = json.dumps(r.json(),indent = 4)\n",
    "# print(r.json())\n",
    "print(len((r.json())['items']))\n",
    "# print(len(data['items']))\n",
    "# with open('dataFetch.json', 'w') as f:\n",
    "#         f.write(data)"
   ]
  },
  {
   "cell_type": "code",
   "execution_count": 102,
   "metadata": {
    "collapsed": false
   },
   "outputs": [],
   "source": [
    "import csv\n",
    "with open('eggs.csv', 'w', newline='') as csvfile:\n",
    "    spamwriter = csv.writer(csvfile, delimiter=' ',\n",
    "                            quotechar='|', quoting=csv.QUOTE_MINIMAL)\n",
    "    spamwriter.writerow(['Spam'] * 5 + ['Baked Beans'])\n",
    "    spamwriter.writerow(['Spam', 'Lovely Spam', 'Wonderful Spam'])"
   ]
  },
  {
   "cell_type": "code",
   "execution_count": 48,
   "metadata": {
    "collapsed": false
   },
   "outputs": [],
   "source": [
    "import csv\n",
    "l = list()\n",
    "l.append((1,3,'ew'))\n",
    "l.append((3,54,'wer2'))\n",
    "l.append((1,22,'ew'))\n",
    "l.append((3,9,'wer2'))\n",
    "l.append((1,31,'ew'))\n",
    "l.append((3,4,'wer2'))\n",
    "with open('test.csv', 'w') as csvfile:\n",
    "    writer = csv.writer(csvfile)\n",
    "    writer.writerow([\"user_id\",\"question\"])\n",
    "    writer.writerows(l)"
   ]
  },
  {
   "cell_type": "code",
   "execution_count": 1,
   "metadata": {
    "collapsed": false
   },
   "outputs": [
    {
     "name": "stdout",
     "output_type": "stream",
     "text": [
      "\n"
     ]
    }
   ],
   "source": [
    "format(2222.222222, '.3f')\n",
    "print()"
   ]
  },
  {
   "cell_type": "code",
   "execution_count": 13,
   "metadata": {
    "collapsed": false
   },
   "outputs": [
    {
     "name": "stdout",
     "output_type": "stream",
     "text": [
      "[(3, 54, 'wer2'), (1, 31, 'ew'), (1, 22, 'ew'), (3, 9, 'wer2'), (3, 4, 'wer2'), (1, 3, 'ew')]\n"
     ]
    }
   ],
   "source": [
    "l_sort = sorted(l, key = lambda x: x[1], reverse= True)\n",
    "print(l_sort)"
   ]
  },
  {
   "cell_type": "code",
   "execution_count": 30,
   "metadata": {
    "collapsed": false
   },
   "outputs": [
    {
     "name": "stdout",
     "output_type": "stream",
     "text": [
      "range(0, 56)\n"
     ]
    },
    {
     "data": {
      "text/plain": [
       "55.55555555555556"
      ]
     },
     "execution_count": 30,
     "metadata": {},
     "output_type": "execute_result"
    }
   ],
   "source": [
    "import math\n",
    "print(range(0,math.ceil(500/9)))\n",
    "500/9"
   ]
  },
  {
   "cell_type": "code",
   "execution_count": 26,
   "metadata": {
    "collapsed": false
   },
   "outputs": [
    {
     "name": "stdout",
     "output_type": "stream",
     "text": [
      "[3, 4, 5, 6, 7, 8, 9]\n"
     ]
    }
   ],
   "source": [
    "list1 = list(range(0,10))\n",
    "print(list1[3:])"
   ]
  },
  {
   "cell_type": "code",
   "execution_count": 35,
   "metadata": {
    "collapsed": false
   },
   "outputs": [
    {
     "name": "stdout",
     "output_type": "stream",
     "text": [
      "33.333333%\n"
     ]
    }
   ],
   "source": [
    "print(\"{:.6%}\".format(1/3))"
   ]
  },
  {
   "cell_type": "code",
   "execution_count": 36,
   "metadata": {
    "collapsed": false
   },
   "outputs": [
    {
     "ename": "NameError",
     "evalue": "name 'double' is not defined",
     "output_type": "error",
     "traceback": [
      "\u001b[0;31m---------------------------------------------------------------------------\u001b[0m",
      "\u001b[0;31mNameError\u001b[0m                                 Traceback (most recent call last)",
      "\u001b[0;32m<ipython-input-36-cf7fdee01f33>\u001b[0m in \u001b[0;36m<module>\u001b[0;34m()\u001b[0m\n\u001b[0;32m----> 1\u001b[0;31m \u001b[0mdouble\u001b[0m\u001b[0;34m(\u001b[0m\u001b[0;36m2.4\u001b[0m\u001b[0;34m)\u001b[0m\u001b[0;34m\u001b[0m\u001b[0m\n\u001b[0m",
      "\u001b[0;31mNameError\u001b[0m: name 'double' is not defined"
     ]
    }
   ],
   "source": [
    "double(2.4)"
   ]
  },
  {
   "cell_type": "code",
   "execution_count": 43,
   "metadata": {
    "collapsed": false
   },
   "outputs": [
    {
     "name": "stdout",
     "output_type": "stream",
     "text": [
      "[('python', 23), ('pandas', 19), ('teacher', 34)]\n"
     ]
    }
   ],
   "source": [
    "# rows = list()\n",
    "badge_No = {'teacher': 34, 'python': 23, 'pandas': 19}\n",
    "# for k,v in badge_No.items():\n",
    "#     rows.append((k,v))\n",
    "rows_2 = [(k,v) for k,v in badge_No.items()]\n",
    "print(rows_2)"
   ]
  },
  {
   "cell_type": "code",
   "execution_count": 47,
   "metadata": {
    "collapsed": false
   },
   "outputs": [
    {
     "data": {
      "text/plain": [
       "set"
      ]
     },
     "execution_count": 47,
     "metadata": {},
     "output_type": "execute_result"
    }
   ],
   "source": [
    "set11 = set()\n",
    "set11.add(1)\n",
    "set11.add(2)\n",
    "set11.add(3)\n",
    "set11.add(1)\n",
    "set11.add(2)\n",
    "type(set11)"
   ]
  },
  {
   "cell_type": "code",
   "execution_count": 57,
   "metadata": {
    "collapsed": false
   },
   "outputs": [
    {
     "name": "stdout",
     "output_type": "stream",
     "text": [
      "123\n",
      "[(1, 3, 'ew'), (3, 54, 'wer2'), (1, 22, 'ew'), (3, 9, 'wer2'), (1, 31, 'ew'), (3, 4, 'wer2')]\n"
     ]
    },
    {
     "data": {
      "text/plain": [
       "123"
      ]
     },
     "execution_count": 57,
     "metadata": {},
     "output_type": "execute_result"
    }
   ],
   "source": [
    "summ = sum([x[1] for x in l])\n",
    "print(summ)\n",
    "print(l)\n",
    "sum([x[1] for x in l])"
   ]
  },
  {
   "cell_type": "code",
   "execution_count": 2,
   "metadata": {
    "collapsed": false
   },
   "outputs": [
    {
     "data": {
      "text/plain": [
       "{328725: 7,\n",
       " 1118236: 3,\n",
       " 1625098: 5,\n",
       " 1700890: 15,\n",
       " 2769240: 4,\n",
       " 3107858: 1,\n",
       " 3285014: 1,\n",
       " 4618255: 0,\n",
       " 4697430: 9,\n",
       " 6771714: 1,\n",
       " 6866960: 0}"
      ]
     },
     "execution_count": 2,
     "metadata": {},
     "output_type": "execute_result"
    }
   ],
   "source": [
    "dd = {6771714: 1, 4697430: 9, 1625098: 5, 4618255: 0, 6866960: 0, 2769240: 4, 3107858: 1, 328725: 7, 3285014: 1, 1700890: 15, 1118236: 3}\n",
    "dd"
   ]
  },
  {
   "cell_type": "code",
   "execution_count": 7,
   "metadata": {
    "collapsed": false
   },
   "outputs": [
    {
     "name": "stdout",
     "output_type": "stream",
     "text": [
      "[(1700890, 15), (4697430, 9), (328725, 7), (1625098, 5), (2769240, 4), (1118236, 3), (6771714, 1), (3285014, 1), (3107858, 1), (6866960, 0), (4618255, 0)]\n"
     ]
    }
   ],
   "source": [
    "dd_sorted = sorted(dd.items(), key = lambda item: item[1], reverse=True)\n",
    "print(dd_sorted)"
   ]
  },
  {
   "cell_type": "code",
   "execution_count": 5,
   "metadata": {
    "collapsed": false
   },
   "outputs": [
    {
     "data": {
      "text/plain": [
       "[(0, 0), (2, 1), (1, 2), (4, 3), (3, 4)]"
      ]
     },
     "execution_count": 5,
     "metadata": {},
     "output_type": "execute_result"
    }
   ],
   "source": [
    "import operator\n",
    "x = {1: 2, 3: 4, 4: 3, 2: 1, 0: 0}\n",
    "sorted_x = sorted(x.items(), key=operator.itemgetter(1))\n",
    "sorted_x"
   ]
  },
  {
   "cell_type": "code",
   "execution_count": 5,
   "metadata": {
    "collapsed": false
   },
   "outputs": [],
   "source": [
    "exam = {\n",
    "    \"items\": [\n",
    "        {\n",
    "            \"owner\": {\n",
    "                \"user_type\": \"registered\",\n",
    "                \"accept_rate\": 50,\n",
    "                \"link\": \"http://stackoverflow.com/users/6666049/jungtae\",\n",
    "                \"reputation\": 5,\n",
    "                \"display_name\": \"jungtae\",\n",
    "                \"profile_image\": \"https://www.gravatar.com/avatar/bf14a235485a9b8a5a6b738debf7fe78?s=128&d=identicon&r=PG&f=1\",\n",
    "                \"user_id\": 6666049\n",
    "            }\n",
    "        },\n",
    "        {\n",
    "            \"owner\": {\n",
    "                \"user_type\": \"registered\",\n",
    "                \"link\": \"http://stackoverflow.com/users/6651422/david-sung\",\n",
    "                \"reputation\": 6,\n",
    "                \"display_name\": \"David Sung\",\n",
    "                \"profile_image\": \"https://graph.facebook.com/10154581152226992/picture?type=large\",\n",
    "                \"user_id\": 6651422\n",
    "            }\n",
    "        },\n",
    "        {\n",
    "            \"owner\": {\n",
    "                \"user_type\": \"registered\",\n",
    "                \"accept_rate\": 54,\n",
    "                \"link\": \"http://stackoverflow.com/users/5029589/arpit-joshi\",\n",
    "                \"reputation\": 321,\n",
    "                \"display_name\": \"arpit joshi\",\n",
    "                \"profile_image\": \"https://i.stack.imgur.com/lVcu7.jpg?s=128&g=1\",\n",
    "                \"user_id\": 5029589\n",
    "            }\n",
    "        },\n",
    "        {\n",
    "            \"owner\": {\n",
    "                \"user_type\": \"registered\",\n",
    "                \"accept_rate\": 54,\n",
    "                \"link\": \"http://stackoverflow.com/users/5029589/arpit-joshi\",\n",
    "                \"reputation\": 321,\n",
    "                \"display_name\": \"arpit joshi\",\n",
    "                \"profile_image\": \"https://i.stack.imgur.com/lVcu7.jpg?s=128&g=1\",\n",
    "                \"user_id\": 5029589\n",
    "            }\n",
    "        }\n",
    "    ]\n",
    "}\n"
   ]
  },
  {
   "cell_type": "code",
   "execution_count": 10,
   "metadata": {
    "collapsed": false
   },
   "outputs": [],
   "source": [
    "user_profile ={}\n",
    "items = exam[\"items\"]\n",
    "for item in items:\n",
    "    user_id = item[\"owner\"][\"user_id\"]\n",
    "    if not user_id in user_profile:\n",
    "        user_profile[user_id] = dict((k, item[\"owner\"][k]) for k in (\"user_id\", \"display_name\",\"link\",\"reputation\"))\n"
   ]
  },
  {
   "cell_type": "code",
   "execution_count": 11,
   "metadata": {
    "collapsed": false,
    "scrolled": true
   },
   "outputs": [
    {
     "name": "stdout",
     "output_type": "stream",
     "text": [
      "{6666049: {'user_id': 6666049, 'link': 'http://stackoverflow.com/users/6666049/jungtae', 'display_name': 'jungtae', 'reputation': 5}, 5029589: {'user_id': 5029589, 'link': 'http://stackoverflow.com/users/5029589/arpit-joshi', 'display_name': 'arpit joshi', 'reputation': 321}, 6651422: {'user_id': 6651422, 'link': 'http://stackoverflow.com/users/6651422/david-sung', 'display_name': 'David Sung', 'reputation': 6}}\n"
     ]
    }
   ],
   "source": [
    "print(user_profile)"
   ]
  },
  {
   "cell_type": "code",
   "execution_count": 12,
   "metadata": {
    "collapsed": true
   },
   "outputs": [],
   "source": [
    "user_profile_sorted = sorted(user_profile.items(), key = lambda item: item[1][\"reputation\"], reverse=True)"
   ]
  },
  {
   "cell_type": "code",
   "execution_count": 20,
   "metadata": {
    "collapsed": false
   },
   "outputs": [
    {
     "name": "stdout",
     "output_type": "stream",
     "text": [
      "[(5029589, {'user_id': 5029589, 'link': 'http://stackoverflow.com/users/5029589/arpit-joshi', 'display_name': 'arpit joshi', 'reputation': 321}), (6651422, {'user_id': 6651422, 'link': 'http://stackoverflow.com/users/6651422/david-sung', 'display_name': 'David Sung', 'reputation': 6}), (6666049, {'user_id': 6666049, 'link': 'http://stackoverflow.com/users/6666049/jungtae', 'display_name': 'jungtae', 'reputation': 5})]\n"
     ]
    }
   ],
   "source": [
    "print(user_profile_sorted)\n",
    "profile_list = [(v[0], v[1][\"user_id\"],v[1][\"display_name\"],v[1][\"tags\"], \n",
    "                  v[1][\"link\"],v[1][\"reputation\"]) for v in user_profile_sorted]"
   ]
  },
  {
   "cell_type": "code",
   "execution_count": 21,
   "metadata": {
    "collapsed": false
   },
   "outputs": [
    {
     "name": "stdout",
     "output_type": "stream",
     "text": [
      "[(5029589, 5029589, 'arpit joshi', 'http://stackoverflow.com/users/5029589/arpit-joshi', 321), (6651422, 6651422, 'David Sung', 'http://stackoverflow.com/users/6651422/david-sung', 6), (6666049, 6666049, 'jungtae', 'http://stackoverflow.com/users/6666049/jungtae', 5)]\n"
     ]
    }
   ],
   "source": [
    "print(profile_list)"
   ]
  }
 ],
 "metadata": {
  "anaconda-cloud": {},
  "kernelspec": {
   "display_name": "Python [Root]",
   "language": "python",
   "name": "Python [Root]"
  },
  "language_info": {
   "codemirror_mode": {
    "name": "ipython",
    "version": 3
   },
   "file_extension": ".py",
   "mimetype": "text/x-python",
   "name": "python",
   "nbconvert_exporter": "python",
   "pygments_lexer": "ipython3",
   "version": "3.5.2"
  }
 },
 "nbformat": 4,
 "nbformat_minor": 0
}
