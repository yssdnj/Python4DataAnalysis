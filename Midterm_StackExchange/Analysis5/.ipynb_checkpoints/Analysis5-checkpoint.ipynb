{
 "cells": [
  {
   "cell_type": "code",
   "execution_count": 70,
   "metadata": {
    "collapsed": false
   },
   "outputs": [],
   "source": [
    "import requests\n",
    "import csv\n",
    "import sys\n",
    "import os\n",
    "sys.path.append(os.path.abspath('../Analysis1'))\n",
    "from Analysis1_question_userid import user_ids\n",
    "\n",
    "user_down_dict = {}\n",
    "user_ids_distinct = list(set(user_ids)) #425\n",
    "for i in user_ids_distinct:\n",
    "    userid_str = str(i)\n",
    "    key = '1N2)WAQaEFzyJP*F)Al2Kw(('\n",
    "    url = 'https://api.stackexchange.com/2.2/users/{}/questions?key={}\\\n",
    "    &pagesize=100&order=desc&sort=votes&site=stackoverflow&filter=!-*f(6pznOIfb'.format(userid_str,key)\n",
    "    r = requests.get(url)\n",
    "    items = r.json()[\"items\"]\n",
    "    user_down_dict[i] = 0\n",
    "    for item in items:\n",
    "        down_vote_count = item[\"down_vote_count\"]\n",
    "        user_down_dict[i] += down_vote_count\n"
   ]
  },
  {
   "cell_type": "code",
   "execution_count": 77,
   "metadata": {
    "collapsed": true
   },
   "outputs": [],
   "source": [
    "user_downvote_sorted = sorted(user_down_dict.items(), key = lambda item: item[1], reverse=True)\n",
    "with open('downvote.csv', 'w') as csvfile:\n",
    "    writer = csv.writer(csvfile)\n",
    "    writer.writerow([\"user_id\", \"down_vote_count\"])\n",
    "    \n",
    "    writer.writerows(user_downvote_sorted)"
   ]
  }
 ],
 "metadata": {
  "anaconda-cloud": {},
  "kernelspec": {
   "display_name": "Python [Root]",
   "language": "python",
   "name": "Python [Root]"
  },
  "language_info": {
   "codemirror_mode": {
    "name": "ipython",
    "version": 3
   },
   "file_extension": ".py",
   "mimetype": "text/x-python",
   "name": "python",
   "nbconvert_exporter": "python",
   "pygments_lexer": "ipython3",
   "version": "3.5.2"
  }
 },
 "nbformat": 4,
 "nbformat_minor": 0
}
