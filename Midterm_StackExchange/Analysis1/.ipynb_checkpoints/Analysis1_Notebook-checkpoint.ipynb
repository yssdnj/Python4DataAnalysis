{
 "cells": [
  {
   "cell_type": "markdown",
   "metadata": {},
   "source": [
    "## Data Fetch"
   ]
  },
  {
   "cell_type": "code",
   "execution_count": 54,
   "metadata": {
    "collapsed": true
   },
   "outputs": [],
   "source": [
    "import requests\n",
    "import json\n",
    "import os\n",
    "\n",
    "def crtFold(folder):\n",
    "    path = folder + '/'\n",
    "    isExists=os.path.exists(path)\n",
    "    if(not isExists):\n",
    "        os.mkdir(path)\n",
    "    return path\n",
    "for i in range(1,7):\n",
    "    key = '1N2)WAQaEFzyJP*F)Al2Kw(('\n",
    "    url = 'http://api.stackexchange.com/2.2/questions?key={}&page={}&pagesize=100\\\n",
    "    &fromdate=1472688000&todate=1475193600&order=desc&sort=creation&tagged=python%3Bpandas&site=stackoverflow'.format(key,i)\n",
    "    r = requests.get(url)\n",
    "    # print(len((r.json())['items']))\n",
    "    with open(crtFold('data') + 'dataFetch{}.json'.format(i), 'w') as f:\n",
    "        f.write(json.dumps(r.json(),indent = 4))"
   ]
  },
  {
   "cell_type": "markdown",
   "metadata": {},
   "source": [
    "## Questions UserId"
   ]
  },
  {
   "cell_type": "code",
   "execution_count": 93,
   "metadata": {
    "collapsed": true
   },
   "outputs": [],
   "source": [
    "import json\n",
    "import csv\n",
    "import os\n",
    "question_userid = list()\n",
    "user_ids = list()\n",
    "user_ques_dict = {}\n",
    "ques_user_dict = {}\n",
    "listJsonFiles = os.listdir(\"data\")\n",
    "for file in listJsonFiles:\n",
    "    with open(\"data/\" + file) as jsonfile:\n",
    "        jsonData = json.load(jsonfile)\n",
    "        for item in jsonData[\"items\"]:\n",
    "            user_ids.append(item['owner']['user_id'])\n",
    "            question_userid.append((item['owner']['user_id'], item['title']))\n",
    "            user_ques_dict[item['owner']['user_id']] = item['title']\n",
    "            ques_user_dict[item['title']] = item['owner']['user_id']\n",
    "with open('question_userid.csv', 'w') as csvfile:\n",
    "    writer = csv.writer(csvfile)\n",
    "    writer.writerow([\"user_id\", \"question title\"])\n",
    "    writer.writerows(question_userid)\n",
    "    "
   ]
  },
  {
   "cell_type": "markdown",
   "metadata": {},
   "source": [
    "## Badges Counts"
   ]
  },
  {
   "cell_type": "code",
   "execution_count": null,
   "metadata": {
    "collapsed": false
   },
   "outputs": [],
   "source": [
    "# from Analysis1_question_userid import user_ids\n",
    "bronze = 0 \n",
    "silver = 0\n",
    "gold = 0\n",
    "user_badge_dict={}\n",
    "user_ids_distinct = list(set(user_ids))\n",
    "div = len(user_ids_distinct)//25\n",
    "for i in range(0,div):\n",
    "    userid_str = \";\".join(str(x) for x in user_ids_distinct[0+i*25:25+i*25])\n",
    "    key = '1N2)WAQaEFzyJP*F)Al2Kw(('\n",
    "    url = 'http://api.stackexchange.com/2.2/users/{}?key={}\\\n",
    "    &order=desc&sort=reputation&site=stackoverflow'.format(userid_str,key)\n",
    "    r = requests.get(url)\n",
    "    items = r.json()[\"items\"]\n",
    "    for item in items:\n",
    "        user_id = item[\"user_id\"]\n",
    "        user_bronze = item[\"badge_counts\"][\"bronze\"]\n",
    "        user_silver = item[\"badge_counts\"][\"silver\"]\n",
    "        user_gold = item[\"badge_counts\"][\"gold\"]\n",
    "\n",
    "        user_badge_dict[user_id]= [user_bronze, user_silver, user_gold]\n",
    "\n",
    "        bronze += user_bronze\n",
    "        silver += user_silver\n",
    "        gold += user_gold\n",
    "# print(len(user_badge_dict))\n",
    "# print(\"end\")"
   ]
  },
  {
   "cell_type": "code",
   "execution_count": null,
   "metadata": {
    "collapsed": false
   },
   "outputs": [],
   "source": [
    "rows = list()\n",
    "for ques,user_id in ques_user_dict.items():\n",
    "    u_bronze = user_badge_dict[user_id][0]\n",
    "    u_silver = user_badge_dict[user_id][1]\n",
    "    u_gold = user_badge_dict[user_id][2]\n",
    "    rows.append((user_id, float(format(u_bronze/bronze + u_silver/silver + u_gold/gold,'.6f')),\n",
    "                     u_bronze, u_silver, u_gold, ques))\n",
    "rows_sorted = sorted(rows, key = lambda x: x[1],reverse=True)\n",
    "\n",
    "with open('badges_weightage.csv', 'w') as csvfile:\n",
    "    writer = csv.writer(csvfile)\n",
    "    writer.writerow([\"user_id\", \"weightage\", \"bronze\", \"silver\", \"gold\", \"question title\"])\n",
    "    writer.writerows(rows_sorted)\n",
    "    print(len(rows_sorted))"
   ]
  }
 ],
 "metadata": {
  "anaconda-cloud": {},
  "kernelspec": {
   "display_name": "Python [Root]",
   "language": "python",
   "name": "Python [Root]"
  },
  "language_info": {
   "codemirror_mode": {
    "name": "ipython",
    "version": 3
   },
   "file_extension": ".py",
   "mimetype": "text/x-python",
   "name": "python",
   "nbconvert_exporter": "python",
   "pygments_lexer": "ipython3",
   "version": "3.5.2"
  }
 },
 "nbformat": 4,
 "nbformat_minor": 0
}
