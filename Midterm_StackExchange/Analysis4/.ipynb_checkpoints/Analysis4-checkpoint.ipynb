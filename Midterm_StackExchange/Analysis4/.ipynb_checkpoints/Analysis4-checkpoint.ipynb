{
 "cells": [
  {
   "cell_type": "markdown",
   "metadata": {},
   "source": [
    "# Question Tags "
   ]
  },
  {
   "cell_type": "code",
   "execution_count": null,
   "metadata": {
    "collapsed": true
   },
   "outputs": [],
   "source": [
    "import json\n",
    "import csv\n",
    "import os\n",
    "\n",
    "rows = list()\n",
    "abs_path = os.path.abspath(\"../Analysis1/data\")\n",
    "listJsonFiles = os.listdir(abs_path)\n",
    "# print(listJsonFiles)\n",
    "for file in listJsonFiles:\n",
    "    with open(abs_path + '/' + file) as jsonfile:\n",
    "        jsonData = json.load(jsonfile)\n",
    "        for item in jsonData[\"items\"]:\n",
    "            rows.append((item['question_id'],item['answer_count'],item['tags'],item['title']))\n",
    "            \n",
    "with open('question_tags.csv', 'w') as csvfile:\n",
    "    writer = csv.writer(csvfile)\n",
    "    writer.writerow([\"QuesID\", \"    AnsCount\", \"    Tags\", \"    QuesTitle\"])\n",
    "    writer.writerows(rows)"
   ]
  },
  {
   "cell_type": "markdown",
   "metadata": {},
   "source": [
    "# Tags CSV File"
   ]
  },
  {
   "cell_type": "code",
   "execution_count": 24,
   "metadata": {
    "collapsed": true
   },
   "outputs": [],
   "source": [
    "import json\n",
    "import csv\n",
    "import os\n",
    "\n",
    "def crtFold(folder):\n",
    "    path = folder + '/'\n",
    "    isExists=os.path.exists(path)\n",
    "    if(not isExists):\n",
    "        os.mkdir(path)\n",
    "    return path\n",
    "\n",
    "preData = list()\n",
    "abs_path = os.path.abspath(\"../Analysis1/data\")\n",
    "listJsonFiles = os.listdir(abs_path)\n",
    "for file in listJsonFiles:\n",
    "    with open(abs_path + '/' + file) as jsonfile:\n",
    "        jsonData = json.load(jsonfile)\n",
    "        for item in jsonData[\"items\"]:\n",
    "            preData.append((item['question_id'],item['answer_count'],item['tags'],item['title']))\n",
    "# a list of tags\n",
    "tags_set = set()\n",
    "for pre in preData:\n",
    "    for ele in pre[2]:\n",
    "        tags_set.add(ele)\n",
    "tags_list = list(tags_set)\n",
    "\n",
    "# # create a csv file for each tag\n",
    "# for tag in tags_list:\n",
    "#     with open(crtFold(\"tags\") + tag + '.csv', 'w') as csvfile:\n",
    "#         writer = csv.writer(csvfile)\n",
    "#         writer.writerow([\"QuesID\", \"    AnsCount\", \"    QuesTitle\"])\n",
    "#         rows = list()\n",
    "#         for pre in preData:\n",
    "#             if tag in pre[2]:\n",
    "#                 rows.append((pre[0],pre[1],pre[3]))\n",
    "#         writer.writerows(rows)"
   ]
  },
  {
   "cell_type": "code",
   "execution_count": 30,
   "metadata": {
    "collapsed": false
   },
   "outputs": [],
   "source": [
    "tag_NoQues_NoAns_dict = {}\n",
    "for tag in tags_list:\n",
    "    with open(crtFold(\"tags\") + tag + '.csv', 'w') as csvfile:\n",
    "        writer = csv.writer(csvfile)\n",
    "        writer.writerow([\"QuesID\", \"    AnsCount\", \"    QuesTitle\"])\n",
    "        rows = list()\n",
    "        for pre in preData:\n",
    "            if tag in pre[2]:\n",
    "                rows.append((pre[0],pre[1],pre[3]))\n",
    "        writer.writerows(rows)\n",
    "\n",
    "    tag_NoQues_NoAns_dict[tag] = [len(rows),sum([x[1] for x in rows])]\n",
    "\n",
    "with open('tags_summart.csv', 'w') as csvfile:\n",
    "    writer = csv.writer(csvfile)\n",
    "    writer.writerow([\"Tag\", \"QuesCount\", \"AnsCount\"])\n",
    "    rows = list()\n",
    "    for k,v in tag_NoQues_NoAns_dict.items():\n",
    "        rows.append((k,v[0],v[1]))\n",
    "    rows_sorted = sorted(rows, key = lambda x: x[1],reverse=True)\n",
    "    writer.writerows(rows_sorted)"
   ]
  }
 ],
 "metadata": {
  "anaconda-cloud": {},
  "kernelspec": {
   "display_name": "Python [Root]",
   "language": "python",
   "name": "Python [Root]"
  },
  "language_info": {
   "codemirror_mode": {
    "name": "ipython",
    "version": 3
   },
   "file_extension": ".py",
   "mimetype": "text/x-python",
   "name": "python",
   "nbconvert_exporter": "python",
   "pygments_lexer": "ipython3",
   "version": "3.5.2"
  }
 },
 "nbformat": 4,
 "nbformat_minor": 0
}
