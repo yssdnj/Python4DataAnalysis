{
 "cells": [
  {
   "cell_type": "markdown",
   "metadata": {},
   "source": [
    "# User Number for each Badge Type"
   ]
  },
  {
   "cell_type": "code",
   "execution_count": null,
   "metadata": {
    "collapsed": true
   },
   "outputs": [],
   "source": [
    "import requests\n",
    "import csv\n",
    "import sys\n",
    "import os\n",
    "sys.path.append(os.path.abspath('../Analysis1'))\n",
    "from Analysis1_question_userid import user_ids, ques_user_dict\n",
    "\n",
    "rows = list() # [('teacher', 34), ('python', 23), ...]\n",
    "badge_No = {} # {'teacher': 34, 'python': 23, ...}\n",
    "user_ids_distinct = list(set(user_ids)) #425\n",
    "div = len(user_ids_distinct)//25 #425/25=17\n",
    "for i in range(0,div):\n",
    "    userid_str = \";\".join(str(x) for x in user_ids_distinct[0+i*25:25+i*25])\n",
    "    key = '1N2)WAQaEFzyJP*F)Al2Kw(('\n",
    "    url = 'https://api.stackexchange.com/2.2/users/{}}/badges?key={}\\\n",
    "    &order=desc&sort=rank&site=stackoverflow'.format(userid_str,key)\n",
    "    r = requests.get(url)\n",
    "    items = r.json()[\"items\"]\n",
    "    for item in items:\n",
    "        badge_name = item[\"name\"]\n",
    "        # badge_userid = item[\"user\"][\"user_id\"]\n",
    "\n",
    "        if not badge_name in badge_No:\n",
    "            badge_No[badge_name] = 1\n",
    "        else:\n",
    "            badge_No[badge_name] += 1\n",
    "# write the sorted results into csv file\n",
    "with open('badgeType_user.csv', 'w') as csvfile:\n",
    "    writer = csv.writer(csvfile)\n",
    "    writer.writerow([\"BadageType\", \"UserCount\"])\n",
    "    for k,v in badge_No.items():\n",
    "        rows.append((k,v))\n",
    "    # rows_2 = [(k,v) for k,v in badge_No.items()]\n",
    "    rows_sorted = sorted(rows, key = lambda x: x[1],reverse=True)\n",
    "    writer.writerows(rows_sorted)"
   ]
  }
 ],
 "metadata": {
  "kernelspec": {
   "display_name": "Python [Root]",
   "language": "python",
   "name": "Python [Root]"
  },
  "language_info": {
   "codemirror_mode": {
    "name": "ipython",
    "version": 3
   },
   "file_extension": ".py",
   "mimetype": "text/x-python",
   "name": "python",
   "nbconvert_exporter": "python",
   "pygments_lexer": "ipython3",
   "version": "3.5.2"
  }
 },
 "nbformat": 4,
 "nbformat_minor": 0
}
