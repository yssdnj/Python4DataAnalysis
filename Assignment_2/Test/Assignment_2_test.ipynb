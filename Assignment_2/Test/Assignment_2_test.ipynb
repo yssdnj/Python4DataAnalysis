{
 "cells": [
  {
   "cell_type": "code",
   "execution_count": 50,
   "metadata": {
    "collapsed": false
   },
   "outputs": [],
   "source": [
    "import requests\n",
    "import json\n",
    "r = requests.get('http://api.github.com/events')\n",
    "r.status_code\n",
    "#r.text\n",
    "\n",
    "r_put = requests.put('http://httpbin.org/put', data = {'first name': 'wanli', 'last name': 'ma'})\n",
    "#print('r_put',r_put.text)\n",
    "\n",
    "r_delete = requests.delete('http://httpbin.org/delete')\n",
    "#print('r_delete',r_delete.text)\n",
    "\n",
    "r_head = requests.head('http://httpbin.org/get')\n",
    "#print('r_head',r_head.text)\n",
    "\n",
    "r_options = requests.options('http://httpbin.org/get')\n",
    "#print('r_options', r_options.text)"
   ]
  },
  {
   "cell_type": "code",
   "execution_count": 62,
   "metadata": {
    "collapsed": true
   },
   "outputs": [
    {
     "name": "stdout",
     "output_type": "stream",
     "text": [
      "<!DOCTYPE HTML PUBLIC \"-//W3C//DTD HTML 3.2 Final//EN\">\n",
      "<title>405 Method Not Allowed</title>\n",
      "<h1>Method Not Allowed</h1>\n",
      "<p>The method is not allowed for the requested URL.</p>\n",
      "\n",
      "http://httpbin.org/post?first+name=wanli&last+name=ma\n"
     ]
    }
   ],
   "source": [
    "payload = {'first name': 'wanli', 'last name': 'ma'}\n",
    "r_payload = requests.get('http://httpbin.org/get', params = payload)\n",
    "print(r_payload.text)\n",
    "print(r_payload.url)"
   ]
  },
  {
   "cell_type": "code",
   "execution_count": 63,
   "metadata": {
    "collapsed": false
   },
   "outputs": [
    {
     "name": "stdout",
     "output_type": "stream",
     "text": [
      "{\n",
      "  \"args\": {}, \n",
      "  \"data\": \"\", \n",
      "  \"files\": {}, \n",
      "  \"form\": {\n",
      "    \"first name\": \"wanli\", \n",
      "    \"last name\": \"ma\"\n",
      "  }, \n",
      "  \"headers\": {\n",
      "    \"Accept\": \"*/*\", \n",
      "    \"Accept-Encoding\": \"gzip, deflate\", \n",
      "    \"Content-Length\": \"29\", \n",
      "    \"Content-Type\": \"application/x-www-form-urlencoded\", \n",
      "    \"Host\": \"httpbin.org\", \n",
      "    \"User-Agent\": \"python-requests/2.11.1\"\n",
      "  }, \n",
      "  \"json\": null, \n",
      "  \"origin\": \"73.186.83.93\", \n",
      "  \"url\": \"http://httpbin.org/post\"\n",
      "}\n",
      "\n"
     ]
    }
   ],
   "source": [
    "payload = {'first name': 'wanli', 'last name': 'ma'}\n",
    "r_payload = requests.post('http://httpbin.org/post', data = payload)\n",
    "print(r_payload.text)\n"
   ]
  },
  {
   "cell_type": "code",
   "execution_count": 79,
   "metadata": {
    "collapsed": true
   },
   "outputs": [
    {
     "name": "stdout",
     "output_type": "stream",
     "text": [
      "{\n",
      "  \"args\": {}, \n",
      "  \"data\": \"\", \n",
      "  \"files\": {}, \n",
      "  \"form\": {\n",
      "    \"some\": \"data\"\n",
      "  }, \n",
      "  \"headers\": {\n",
      "    \"Accept\": \"*/*\", \n",
      "    \"Accept-Encoding\": \"gzip, deflate\", \n",
      "    \"Content-Length\": \"9\", \n",
      "    \"Content-Type\": \"application/x-www-form-urlencoded\", \n",
      "    \"Host\": \"httpbin.org\", \n",
      "    \"User-Agent\": \"python-requests/2.11.1\"\n",
      "  }, \n",
      "  \"json\": null, \n",
      "  \"origin\": \"73.186.83.93\", \n",
      "  \"url\": \"http://httpbin.org/post\"\n",
      "}\n",
      "\n"
     ]
    }
   ],
   "source": [
    "import json\n",
    "payload = {'some': 'data'}\n",
    "name = {'first name': 'wanli', 'last name': 'ma'}\n",
    "r_payload = requests.post('http://httpbin.org/post', data = payload,json = name) \n",
    "#First data, then json\n",
    "print(r_payload.text)"
   ]
  },
  {
   "cell_type": "code",
   "execution_count": 57,
   "metadata": {
    "collapsed": false
   },
   "outputs": [
    {
     "data": {
      "text/plain": [
       "'{\"message\":\"Not Found\",\"documentation_url\":\"https://developer.github.com/v3\"}'"
      ]
     },
     "execution_count": 57,
     "metadata": {},
     "output_type": "execute_result"
    }
   ],
   "source": [
    "url = 'https://api.github.com/some/endpoint'\n",
    "headers = {'user-agent': 'my-app/0.0.1'}\n",
    "\n",
    "r_addheader = requests.get(url, headers=headers)\n",
    "r_addheader.text"
   ]
  },
  {
   "cell_type": "code",
   "execution_count": 87,
   "metadata": {
    "collapsed": false
   },
   "outputs": [],
   "source": [
    "url = 'http://httpbin.org/post'\n",
    "files = {'file': ('report.xls', open('report.xls', 'rb'), 'application/vnd.ms-excel', {'Expires': '0'})}\n",
    "# files = {'file': open('report.xls', 'rb')}\n",
    "r = requests.post(url, files=files)\n",
    "# r.text"
   ]
  },
  {
   "cell_type": "code",
   "execution_count": 12,
   "metadata": {
    "collapsed": false
   },
   "outputs": [
    {
     "name": "stdout",
     "output_type": "stream",
     "text": [
      "[(3, 4), (4, 3), (1, 2), (2, 1), (0, 0)]\n"
     ]
    }
   ],
   "source": [
    "import operator\n",
    "x = {1: 2, 3: 4, 4: 3, 2: 1, 0: 0}\n",
    "sorted_x = sorted(x.items(), key=lambda x: x[1],reverse =True)\n",
    "print(sorted_x)"
   ]
  },
  {
   "cell_type": "code",
   "execution_count": 20,
   "metadata": {
    "collapsed": false
   },
   "outputs": [
    {
     "name": "stdout",
     "output_type": "stream",
     "text": [
      "[{'b': 19, 'c': 2, 'a': 4}, {'b': 9, 'c': 2, 'a': 10}, {'b': 6, 'c': 3, 'a': 11}]\n"
     ]
    }
   ],
   "source": [
    "import pprint \n",
    "y = [{'a': 10, 'b': 9 , 'c': 2},{'a': 4, 'b': 19 , 'c': 2},{'a': 11, 'b': 6 , 'c': 3}]\n",
    "sorted_y = sorted(y, key=lambda y: y['b'],reverse = True)\n",
    "print(sorted_y)"
   ]
  },
  {
   "cell_type": "code",
   "execution_count": 18,
   "metadata": {
    "collapsed": false
   },
   "outputs": [
    {
     "data": {
      "text/plain": [
       "['third', 'first', 'second', 'Fourth']"
      ]
     },
     "execution_count": 18,
     "metadata": {},
     "output_type": "execute_result"
    }
   ],
   "source": [
    "numbers = {'first': 1, 'second': 2, 'third': 3, 'Fourth': 4}\n",
    "list(numbers)"
   ]
  },
  {
   "cell_type": "code",
   "execution_count": 26,
   "metadata": {
    "collapsed": false
   },
   "outputs": [
    {
     "name": "stdout",
     "output_type": "stream",
     "text": [
      "<class 'dict'>\n",
      "Georgia 0\n",
      "Indiana 25297\n",
      "Kentucky 0\n",
      "Arkansas 0\n",
      "Texas 0\n",
      "New York 0\n",
      "Massachusetts 0\n",
      "Colorado 0\n",
      "Pennsylvania 0\n",
      "New Jersey 0\n",
      "New Hampshire 0\n",
      "California 0\n",
      "Florida 33411\n"
     ]
    }
   ],
   "source": [
    "dict_state_influ_count = {'California': (0, 3), 'Florida': (400935, 12), 'Indiana': (75893, 3), 'New Jersey': (0, 6), 'Colorado': (0, 3), 'Texas': (0, 3), 'Kentucky': (\n",
    "0, 6), 'Pennsylvania': (0, 3), 'New Hampshire': (0, 3), 'Massachusetts': (0, 9), 'New York': (0, 3), 'Georgia': (0, 3), 'Arkansas': (0, 3)}  \n",
    "print(type(dict_state_influ_count))\n",
    "for k,v in dict_state_influ_count.items():\n",
    "    print(k,v[0]//v[1])"
   ]
  },
  {
   "cell_type": "code",
   "execution_count": 59,
   "metadata": {
    "collapsed": false
   },
   "outputs": [
    {
     "name": "stdout",
     "output_type": "stream",
     "text": [
      "   adfasd    \n",
      " \n",
      " asfewfasef d fa\n"
     ]
    }
   ],
   "source": [
    "s = '   adfasd    \\n \\n asfewfasef d fa\\n'\n",
    "\n",
    "print(s.strip(\"\\n\"))\n"
   ]
  }
 ],
 "metadata": {
  "anaconda-cloud": {},
  "kernelspec": {
   "display_name": "Python [Root]",
   "language": "python",
   "name": "Python [Root]"
  },
  "language_info": {
   "codemirror_mode": {
    "name": "ipython",
    "version": 3
   },
   "file_extension": ".py",
   "mimetype": "text/x-python",
   "name": "python",
   "nbconvert_exporter": "python",
   "pygments_lexer": "ipython3",
   "version": "3.5.2"
  }
 },
 "nbformat": 4,
 "nbformat_minor": 0
}
